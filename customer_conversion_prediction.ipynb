{
  "cells": [
    {
      "cell_type": "markdown",
      "metadata": {
        "id": "4hD_h7HZLgWS"
      },
      "source": [
        "## Importing And Installing Necessary Libraries"
      ]
    },
    {
      "cell_type": "code",
      "execution_count": null,
      "metadata": {
        "colab": {
          "base_uri": "https://localhost:8080/"
        },
        "id": "nLDU3i_VF6Tl",
        "outputId": "2927f7e4-c8ef-4af8-87de-41084a595b93"
      },
      "outputs": [
        {
          "output_type": "stream",
          "name": "stdout",
          "text": [
            "Collecting statistics\n",
            "  Downloading statistics-1.0.3.5.tar.gz (8.3 kB)\n",
            "  Preparing metadata (setup.py) ... \u001b[?25l\u001b[?25hdone\n",
            "Requirement already satisfied: docutils>=0.3 in /usr/local/lib/python3.10/dist-packages (from statistics) (0.16)\n",
            "Building wheels for collected packages: statistics\n",
            "  Building wheel for statistics (setup.py) ... \u001b[?25l\u001b[?25hdone\n",
            "  Created wheel for statistics: filename=statistics-1.0.3.5-py3-none-any.whl size=7438 sha256=725272b1ca8536803b0f84922a87493eff64b4b2858d6a164e648259fe922948\n",
            "  Stored in directory: /root/.cache/pip/wheels/59/bd/aa/41ad56fbb723d36e457b5be74feb992cdac2855a6999ba34a1\n",
            "Successfully built statistics\n",
            "Installing collected packages: statistics\n",
            "Successfully installed statistics-1.0.3.5\n"
          ]
        }
      ],
      "source": [
        "!pip install statistics"
      ]
    },
    {
      "cell_type": "code",
      "execution_count": null,
      "metadata": {
        "id": "MZlbfGqjFLJp"
      },
      "outputs": [],
      "source": [
        "import pandas as pd\n",
        "import numpy as np\n",
        "import statistics as st\n",
        "import matplotlib.pyplot as plt"
      ]
    },
    {
      "cell_type": "markdown",
      "metadata": {
        "id": "XIiv9aB6Lrhg"
      },
      "source": [
        "## Insights Of The Data"
      ]
    },
    {
      "cell_type": "code",
      "execution_count": null,
      "metadata": {
        "id": "f1y1Gr6MGICV"
      },
      "outputs": [],
      "source": [
        "df = pd.read_csv('/content/raw_data.csv')"
      ]
    },
    {
      "cell_type": "code",
      "execution_count": null,
      "metadata": {
        "colab": {
          "base_uri": "https://localhost:8080/",
          "height": 424
        },
        "id": "3zFTebEXGORD",
        "outputId": "731d9351-458b-485a-fcb7-83a9194d4fe5"
      },
      "outputs": [
        {
          "output_type": "execute_result",
          "data": {
            "text/plain": [
              "       age           job   marital education_qual  call_type  day  mon   dur  \\\n",
              "0       58    management   married       tertiary    unknown    5  may   261   \n",
              "1       44    technician    single      secondary    unknown    5  may   151   \n",
              "2       33  entrepreneur   married      secondary    unknown    5  may    76   \n",
              "3       47   blue-collar   married        unknown    unknown    5  may    92   \n",
              "4       33       unknown    single        unknown    unknown    5  may   198   \n",
              "...    ...           ...       ...            ...        ...  ...  ...   ...   \n",
              "45206   51    technician   married       tertiary   cellular   17  nov   977   \n",
              "45207   71       retired  divorced        primary   cellular   17  nov   456   \n",
              "45208   72       retired   married      secondary   cellular   17  nov  1127   \n",
              "45209   57   blue-collar   married      secondary  telephone   17  nov   508   \n",
              "45210   37  entrepreneur   married      secondary   cellular   17  nov   361   \n",
              "\n",
              "       num_calls prev_outcome    y  \n",
              "0              1      unknown   no  \n",
              "1              1      unknown   no  \n",
              "2              1      unknown   no  \n",
              "3              1      unknown   no  \n",
              "4              1      unknown   no  \n",
              "...          ...          ...  ...  \n",
              "45206          3      unknown  yes  \n",
              "45207          2      unknown  yes  \n",
              "45208          5      success  yes  \n",
              "45209          4      unknown   no  \n",
              "45210          2        other   no  \n",
              "\n",
              "[45211 rows x 11 columns]"
            ],
            "text/html": [
              "\n",
              "  <div id=\"df-16a378a9-4255-4e01-903d-3786b07cbdb3\">\n",
              "    <div class=\"colab-df-container\">\n",
              "      <div>\n",
              "<style scoped>\n",
              "    .dataframe tbody tr th:only-of-type {\n",
              "        vertical-align: middle;\n",
              "    }\n",
              "\n",
              "    .dataframe tbody tr th {\n",
              "        vertical-align: top;\n",
              "    }\n",
              "\n",
              "    .dataframe thead th {\n",
              "        text-align: right;\n",
              "    }\n",
              "</style>\n",
              "<table border=\"1\" class=\"dataframe\">\n",
              "  <thead>\n",
              "    <tr style=\"text-align: right;\">\n",
              "      <th></th>\n",
              "      <th>age</th>\n",
              "      <th>job</th>\n",
              "      <th>marital</th>\n",
              "      <th>education_qual</th>\n",
              "      <th>call_type</th>\n",
              "      <th>day</th>\n",
              "      <th>mon</th>\n",
              "      <th>dur</th>\n",
              "      <th>num_calls</th>\n",
              "      <th>prev_outcome</th>\n",
              "      <th>y</th>\n",
              "    </tr>\n",
              "  </thead>\n",
              "  <tbody>\n",
              "    <tr>\n",
              "      <th>0</th>\n",
              "      <td>58</td>\n",
              "      <td>management</td>\n",
              "      <td>married</td>\n",
              "      <td>tertiary</td>\n",
              "      <td>unknown</td>\n",
              "      <td>5</td>\n",
              "      <td>may</td>\n",
              "      <td>261</td>\n",
              "      <td>1</td>\n",
              "      <td>unknown</td>\n",
              "      <td>no</td>\n",
              "    </tr>\n",
              "    <tr>\n",
              "      <th>1</th>\n",
              "      <td>44</td>\n",
              "      <td>technician</td>\n",
              "      <td>single</td>\n",
              "      <td>secondary</td>\n",
              "      <td>unknown</td>\n",
              "      <td>5</td>\n",
              "      <td>may</td>\n",
              "      <td>151</td>\n",
              "      <td>1</td>\n",
              "      <td>unknown</td>\n",
              "      <td>no</td>\n",
              "    </tr>\n",
              "    <tr>\n",
              "      <th>2</th>\n",
              "      <td>33</td>\n",
              "      <td>entrepreneur</td>\n",
              "      <td>married</td>\n",
              "      <td>secondary</td>\n",
              "      <td>unknown</td>\n",
              "      <td>5</td>\n",
              "      <td>may</td>\n",
              "      <td>76</td>\n",
              "      <td>1</td>\n",
              "      <td>unknown</td>\n",
              "      <td>no</td>\n",
              "    </tr>\n",
              "    <tr>\n",
              "      <th>3</th>\n",
              "      <td>47</td>\n",
              "      <td>blue-collar</td>\n",
              "      <td>married</td>\n",
              "      <td>unknown</td>\n",
              "      <td>unknown</td>\n",
              "      <td>5</td>\n",
              "      <td>may</td>\n",
              "      <td>92</td>\n",
              "      <td>1</td>\n",
              "      <td>unknown</td>\n",
              "      <td>no</td>\n",
              "    </tr>\n",
              "    <tr>\n",
              "      <th>4</th>\n",
              "      <td>33</td>\n",
              "      <td>unknown</td>\n",
              "      <td>single</td>\n",
              "      <td>unknown</td>\n",
              "      <td>unknown</td>\n",
              "      <td>5</td>\n",
              "      <td>may</td>\n",
              "      <td>198</td>\n",
              "      <td>1</td>\n",
              "      <td>unknown</td>\n",
              "      <td>no</td>\n",
              "    </tr>\n",
              "    <tr>\n",
              "      <th>...</th>\n",
              "      <td>...</td>\n",
              "      <td>...</td>\n",
              "      <td>...</td>\n",
              "      <td>...</td>\n",
              "      <td>...</td>\n",
              "      <td>...</td>\n",
              "      <td>...</td>\n",
              "      <td>...</td>\n",
              "      <td>...</td>\n",
              "      <td>...</td>\n",
              "      <td>...</td>\n",
              "    </tr>\n",
              "    <tr>\n",
              "      <th>45206</th>\n",
              "      <td>51</td>\n",
              "      <td>technician</td>\n",
              "      <td>married</td>\n",
              "      <td>tertiary</td>\n",
              "      <td>cellular</td>\n",
              "      <td>17</td>\n",
              "      <td>nov</td>\n",
              "      <td>977</td>\n",
              "      <td>3</td>\n",
              "      <td>unknown</td>\n",
              "      <td>yes</td>\n",
              "    </tr>\n",
              "    <tr>\n",
              "      <th>45207</th>\n",
              "      <td>71</td>\n",
              "      <td>retired</td>\n",
              "      <td>divorced</td>\n",
              "      <td>primary</td>\n",
              "      <td>cellular</td>\n",
              "      <td>17</td>\n",
              "      <td>nov</td>\n",
              "      <td>456</td>\n",
              "      <td>2</td>\n",
              "      <td>unknown</td>\n",
              "      <td>yes</td>\n",
              "    </tr>\n",
              "    <tr>\n",
              "      <th>45208</th>\n",
              "      <td>72</td>\n",
              "      <td>retired</td>\n",
              "      <td>married</td>\n",
              "      <td>secondary</td>\n",
              "      <td>cellular</td>\n",
              "      <td>17</td>\n",
              "      <td>nov</td>\n",
              "      <td>1127</td>\n",
              "      <td>5</td>\n",
              "      <td>success</td>\n",
              "      <td>yes</td>\n",
              "    </tr>\n",
              "    <tr>\n",
              "      <th>45209</th>\n",
              "      <td>57</td>\n",
              "      <td>blue-collar</td>\n",
              "      <td>married</td>\n",
              "      <td>secondary</td>\n",
              "      <td>telephone</td>\n",
              "      <td>17</td>\n",
              "      <td>nov</td>\n",
              "      <td>508</td>\n",
              "      <td>4</td>\n",
              "      <td>unknown</td>\n",
              "      <td>no</td>\n",
              "    </tr>\n",
              "    <tr>\n",
              "      <th>45210</th>\n",
              "      <td>37</td>\n",
              "      <td>entrepreneur</td>\n",
              "      <td>married</td>\n",
              "      <td>secondary</td>\n",
              "      <td>cellular</td>\n",
              "      <td>17</td>\n",
              "      <td>nov</td>\n",
              "      <td>361</td>\n",
              "      <td>2</td>\n",
              "      <td>other</td>\n",
              "      <td>no</td>\n",
              "    </tr>\n",
              "  </tbody>\n",
              "</table>\n",
              "<p>45211 rows × 11 columns</p>\n",
              "</div>\n",
              "      <button class=\"colab-df-convert\" onclick=\"convertToInteractive('df-16a378a9-4255-4e01-903d-3786b07cbdb3')\"\n",
              "              title=\"Convert this dataframe to an interactive table.\"\n",
              "              style=\"display:none;\">\n",
              "        \n",
              "  <svg xmlns=\"http://www.w3.org/2000/svg\" height=\"24px\"viewBox=\"0 0 24 24\"\n",
              "       width=\"24px\">\n",
              "    <path d=\"M0 0h24v24H0V0z\" fill=\"none\"/>\n",
              "    <path d=\"M18.56 5.44l.94 2.06.94-2.06 2.06-.94-2.06-.94-.94-2.06-.94 2.06-2.06.94zm-11 1L8.5 8.5l.94-2.06 2.06-.94-2.06-.94L8.5 2.5l-.94 2.06-2.06.94zm10 10l.94 2.06.94-2.06 2.06-.94-2.06-.94-.94-2.06-.94 2.06-2.06.94z\"/><path d=\"M17.41 7.96l-1.37-1.37c-.4-.4-.92-.59-1.43-.59-.52 0-1.04.2-1.43.59L10.3 9.45l-7.72 7.72c-.78.78-.78 2.05 0 2.83L4 21.41c.39.39.9.59 1.41.59.51 0 1.02-.2 1.41-.59l7.78-7.78 2.81-2.81c.8-.78.8-2.07 0-2.86zM5.41 20L4 18.59l7.72-7.72 1.47 1.35L5.41 20z\"/>\n",
              "  </svg>\n",
              "      </button>\n",
              "      \n",
              "  <style>\n",
              "    .colab-df-container {\n",
              "      display:flex;\n",
              "      flex-wrap:wrap;\n",
              "      gap: 12px;\n",
              "    }\n",
              "\n",
              "    .colab-df-convert {\n",
              "      background-color: #E8F0FE;\n",
              "      border: none;\n",
              "      border-radius: 50%;\n",
              "      cursor: pointer;\n",
              "      display: none;\n",
              "      fill: #1967D2;\n",
              "      height: 32px;\n",
              "      padding: 0 0 0 0;\n",
              "      width: 32px;\n",
              "    }\n",
              "\n",
              "    .colab-df-convert:hover {\n",
              "      background-color: #E2EBFA;\n",
              "      box-shadow: 0px 1px 2px rgba(60, 64, 67, 0.3), 0px 1px 3px 1px rgba(60, 64, 67, 0.15);\n",
              "      fill: #174EA6;\n",
              "    }\n",
              "\n",
              "    [theme=dark] .colab-df-convert {\n",
              "      background-color: #3B4455;\n",
              "      fill: #D2E3FC;\n",
              "    }\n",
              "\n",
              "    [theme=dark] .colab-df-convert:hover {\n",
              "      background-color: #434B5C;\n",
              "      box-shadow: 0px 1px 3px 1px rgba(0, 0, 0, 0.15);\n",
              "      filter: drop-shadow(0px 1px 2px rgba(0, 0, 0, 0.3));\n",
              "      fill: #FFFFFF;\n",
              "    }\n",
              "  </style>\n",
              "\n",
              "      <script>\n",
              "        const buttonEl =\n",
              "          document.querySelector('#df-16a378a9-4255-4e01-903d-3786b07cbdb3 button.colab-df-convert');\n",
              "        buttonEl.style.display =\n",
              "          google.colab.kernel.accessAllowed ? 'block' : 'none';\n",
              "\n",
              "        async function convertToInteractive(key) {\n",
              "          const element = document.querySelector('#df-16a378a9-4255-4e01-903d-3786b07cbdb3');\n",
              "          const dataTable =\n",
              "            await google.colab.kernel.invokeFunction('convertToInteractive',\n",
              "                                                     [key], {});\n",
              "          if (!dataTable) return;\n",
              "\n",
              "          const docLinkHtml = 'Like what you see? Visit the ' +\n",
              "            '<a target=\"_blank\" href=https://colab.research.google.com/notebooks/data_table.ipynb>data table notebook</a>'\n",
              "            + ' to learn more about interactive tables.';\n",
              "          element.innerHTML = '';\n",
              "          dataTable['output_type'] = 'display_data';\n",
              "          await google.colab.output.renderOutput(dataTable, element);\n",
              "          const docLink = document.createElement('div');\n",
              "          docLink.innerHTML = docLinkHtml;\n",
              "          element.appendChild(docLink);\n",
              "        }\n",
              "      </script>\n",
              "    </div>\n",
              "  </div>\n",
              "  "
            ]
          },
          "metadata": {},
          "execution_count": 4
        }
      ],
      "source": [
        "pd.set_option('display.max_columns', None)\n",
        "df"
      ]
    },
    {
      "cell_type": "markdown",
      "source": [
        "# Insights of the data\n",
        "\n",
        "### Features\n",
        "age - continuous feature. Age of the customer\n",
        "\n",
        "job - multi class categorical feature. Job type of the customer\n",
        "\n",
        "marital - multi class categorical feature. marital status of the customer whether he/she is single or married or divorced\n",
        "\n",
        "education_qual - multi class categorical feature. education qualification of the customer\n",
        "\n",
        "call_type - multi class categorical feature. call type in which the company employees contacted the customer\n",
        "\n",
        "day - continuous feature. which day of the month the employees contacted the customer\n",
        "\n",
        "mon - multi class categorical feature. which month the employees contacted the customer\n",
        "\n",
        "dur - continuous feature. duration of the call in seconds. Longer the duration, more chance the customer takes insurance\n",
        "\n",
        "num_calls - continuous feature. number of calls made to the customer by the employees\n",
        "\n",
        "prev_outcome - multi class categorical feature. the status of the previous call made to the customer\n",
        "\n",
        "### Target\n",
        "\n",
        "y - Binary categorical target variable. The customer takes insurance or not. Imbalnced target variable. Need to balnce it"
      ],
      "metadata": {
        "id": "nVT6Pq-itAcO"
      }
    },
    {
      "cell_type": "markdown",
      "metadata": {
        "id": "peBeR4KKLTY1"
      },
      "source": [
        "## Generic Cleaning"
      ]
    },
    {
      "cell_type": "code",
      "execution_count": null,
      "metadata": {
        "colab": {
          "base_uri": "https://localhost:8080/"
        },
        "id": "gVpRSTPjJnzA",
        "outputId": "67cea93b-44c8-4ed6-a617-d3bb16bca51a"
      },
      "outputs": [
        {
          "output_type": "execute_result",
          "data": {
            "text/plain": [
              "(45211, 11)"
            ]
          },
          "metadata": {},
          "execution_count": 6
        }
      ],
      "source": [
        "df.shape"
      ]
    },
    {
      "cell_type": "code",
      "execution_count": null,
      "metadata": {
        "colab": {
          "base_uri": "https://localhost:8080/"
        },
        "id": "HQlzZKCTJrQh",
        "outputId": "276d8a1b-3025-4af1-b6dc-26418dbd3d22"
      },
      "outputs": [
        {
          "output_type": "execute_result",
          "data": {
            "text/plain": [
              "Index(['age', 'job', 'marital', 'education_qual', 'call_type', 'day', 'mon',\n",
              "       'dur', 'num_calls', 'prev_outcome', 'y'],\n",
              "      dtype='object')"
            ]
          },
          "metadata": {},
          "execution_count": 7
        }
      ],
      "source": [
        "df.columns"
      ]
    },
    {
      "cell_type": "code",
      "execution_count": null,
      "metadata": {
        "colab": {
          "base_uri": "https://localhost:8080/"
        },
        "id": "U85cqJPbJxM1",
        "outputId": "2f445541-30d4-4edd-8be0-70309cae9772"
      },
      "outputs": [
        {
          "output_type": "execute_result",
          "data": {
            "text/plain": [
              "age               0\n",
              "job               0\n",
              "marital           0\n",
              "education_qual    0\n",
              "call_type         0\n",
              "day               0\n",
              "mon               0\n",
              "dur               0\n",
              "num_calls         0\n",
              "prev_outcome      0\n",
              "y                 0\n",
              "dtype: int64"
            ]
          },
          "metadata": {},
          "execution_count": 8
        }
      ],
      "source": [
        "df.isnull().sum()\n",
        "# no null values"
      ]
    },
    {
      "cell_type": "code",
      "execution_count": null,
      "metadata": {
        "colab": {
          "base_uri": "https://localhost:8080/"
        },
        "id": "cNYusjFzJ_qt",
        "outputId": "851c1fa8-3a17-4b8c-a66a-d56a25f516f3"
      },
      "outputs": [
        {
          "output_type": "execute_result",
          "data": {
            "text/plain": [
              "age                int64\n",
              "job               object\n",
              "marital           object\n",
              "education_qual    object\n",
              "call_type         object\n",
              "day                int64\n",
              "mon               object\n",
              "dur                int64\n",
              "num_calls          int64\n",
              "prev_outcome      object\n",
              "y                 object\n",
              "dtype: object"
            ]
          },
          "metadata": {},
          "execution_count": 9
        }
      ],
      "source": [
        "df.dtypes\n",
        "# All the features and the target are in correct form of datatype"
      ]
    },
    {
      "cell_type": "code",
      "execution_count": null,
      "metadata": {
        "id": "TVOgmiTIKV1w"
      },
      "outputs": [],
      "source": [
        "df = df.drop_duplicates()"
      ]
    },
    {
      "cell_type": "markdown",
      "metadata": {
        "id": "CwKXckGaLauK"
      },
      "source": [
        "## Column Wise Cleaning"
      ]
    },
    {
      "cell_type": "markdown",
      "metadata": {
        "id": "6FVlAsryOcIz"
      },
      "source": [
        "#### 'age' Column"
      ]
    },
    {
      "cell_type": "code",
      "execution_count": null,
      "metadata": {
        "colab": {
          "base_uri": "https://localhost:8080/"
        },
        "id": "FSQra9HcK9tB",
        "outputId": "b9fc1846-38e1-493c-f160-517ddfa8ec26"
      },
      "outputs": [
        {
          "output_type": "execute_result",
          "data": {
            "text/plain": [
              "32    2084\n",
              "31    1996\n",
              "33    1972\n",
              "34    1929\n",
              "35    1894\n",
              "      ... \n",
              "93       2\n",
              "90       2\n",
              "95       2\n",
              "88       2\n",
              "94       1\n",
              "Name: age, Length: 77, dtype: int64"
            ]
          },
          "metadata": {},
          "execution_count": 11
        }
      ],
      "source": [
        "df['age'].value_counts()"
      ]
    },
    {
      "cell_type": "code",
      "execution_count": null,
      "metadata": {
        "colab": {
          "base_uri": "https://localhost:8080/"
        },
        "id": "s2DSAtzNL-GN",
        "outputId": "b55912eb-80d5-4637-cfa8-6b4ce69158b5"
      },
      "outputs": [
        {
          "output_type": "execute_result",
          "data": {
            "text/plain": [
              "count    45205.000000\n",
              "mean        40.937087\n",
              "std         10.619130\n",
              "min         18.000000\n",
              "25%         33.000000\n",
              "50%         39.000000\n",
              "75%         48.000000\n",
              "max         95.000000\n",
              "Name: age, dtype: float64"
            ]
          },
          "metadata": {},
          "execution_count": 12
        }
      ],
      "source": [
        "df['age'].describe()\n",
        "# Comparing value_counts and the summary, the aged persons can be considered as outliers here and these outliers are to be clipped."
      ]
    },
    {
      "cell_type": "code",
      "execution_count": null,
      "metadata": {
        "id": "4dxcoiw9NEtz"
      },
      "outputs": [],
      "source": [
        "q1 = df['age'].quantile(0.25)\n",
        "q3 = df['age'].quantile(0.75)\n",
        "iqr = q3 - q1"
      ]
    },
    {
      "cell_type": "code",
      "execution_count": null,
      "metadata": {
        "id": "n0u4ti6nNUQR"
      },
      "outputs": [],
      "source": [
        "lower_threshold = round(q1-(1.5*iqr))\n",
        "upper_threshold = round(q3+(1.5*iqr))"
      ]
    },
    {
      "cell_type": "code",
      "execution_count": null,
      "metadata": {
        "colab": {
          "base_uri": "https://localhost:8080/"
        },
        "id": "aMpTCRaQNrh2",
        "outputId": "6a8376b8-dfe6-4d2d-d6c6-c3884c07542a"
      },
      "outputs": [
        {
          "output_type": "execute_result",
          "data": {
            "text/plain": [
              "(10, 70)"
            ]
          },
          "metadata": {},
          "execution_count": 15
        }
      ],
      "source": [
        "lower_threshold, upper_threshold"
      ]
    },
    {
      "cell_type": "code",
      "execution_count": null,
      "metadata": {
        "colab": {
          "base_uri": "https://localhost:8080/"
        },
        "id": "TiLfmZs7NudM",
        "outputId": "d212ebee-ec25-4a50-a4f2-9f58c94ad6bd"
      },
      "outputs": [
        {
          "output_type": "stream",
          "name": "stderr",
          "text": [
            "<ipython-input-16-6e832abf6844>:2: SettingWithCopyWarning: \n",
            "A value is trying to be set on a copy of a slice from a DataFrame.\n",
            "Try using .loc[row_indexer,col_indexer] = value instead\n",
            "\n",
            "See the caveats in the documentation: https://pandas.pydata.org/pandas-docs/stable/user_guide/indexing.html#returning-a-view-versus-a-copy\n",
            "  df['age'] = df['age'].clip(lower_threshold, upper_threshold)\n"
          ]
        }
      ],
      "source": [
        "# clipping the outliers in 'age' column\n",
        "df['age'] = df['age'].clip(lower_threshold, upper_threshold)"
      ]
    },
    {
      "cell_type": "code",
      "execution_count": null,
      "metadata": {
        "colab": {
          "base_uri": "https://localhost:8080/"
        },
        "id": "cLzproMjOCvc",
        "outputId": "cf46a6c8-e244-4395-f1d3-a0c284e95ab2"
      },
      "outputs": [
        {
          "output_type": "execute_result",
          "data": {
            "text/plain": [
              "count    45205.000000\n",
              "mean        40.863666\n",
              "std         10.380009\n",
              "min         18.000000\n",
              "25%         33.000000\n",
              "50%         39.000000\n",
              "75%         48.000000\n",
              "max         70.000000\n",
              "Name: age, dtype: float64"
            ]
          },
          "metadata": {},
          "execution_count": 17
        }
      ],
      "source": [
        "df['age'].describe()"
      ]
    },
    {
      "cell_type": "markdown",
      "metadata": {
        "id": "yqJoqB9yOlid"
      },
      "source": [
        "#### 'job' Column"
      ]
    },
    {
      "cell_type": "code",
      "execution_count": null,
      "metadata": {
        "colab": {
          "base_uri": "https://localhost:8080/"
        },
        "id": "aWa1sPXgOJ-o",
        "outputId": "c8324616-fb7c-434b-a109-4b40cf0bfa34"
      },
      "outputs": [
        {
          "output_type": "execute_result",
          "data": {
            "text/plain": [
              "blue-collar      9730\n",
              "management       9457\n",
              "technician       7596\n",
              "admin.           5170\n",
              "services         4153\n",
              "retired          2264\n",
              "self-employed    1579\n",
              "entrepreneur     1487\n",
              "unemployed       1303\n",
              "housemaid        1240\n",
              "student           938\n",
              "unknown           288\n",
              "Name: job, dtype: int64"
            ]
          },
          "metadata": {},
          "execution_count": 18
        }
      ],
      "source": [
        "df['job'].value_counts()"
      ]
    },
    {
      "cell_type": "code",
      "execution_count": null,
      "metadata": {
        "id": "yz-Uf__XRkCP"
      },
      "outputs": [],
      "source": [
        "df.loc[df['job'] == 'unknown', 'job'] = np.nan"
      ]
    },
    {
      "cell_type": "code",
      "execution_count": null,
      "metadata": {
        "colab": {
          "base_uri": "https://localhost:8080/"
        },
        "id": "TL6c75vOR1Vh",
        "outputId": "d303127d-77a4-4750-9983-3f381022f3ce"
      },
      "outputs": [
        {
          "output_type": "execute_result",
          "data": {
            "text/plain": [
              "288"
            ]
          },
          "metadata": {},
          "execution_count": 20
        }
      ],
      "source": [
        "df['job'].isnull().sum()"
      ]
    },
    {
      "cell_type": "code",
      "execution_count": null,
      "metadata": {
        "id": "Hnxj0JDVR92S"
      },
      "outputs": [],
      "source": [
        "# Imputing the missing values with mode\n",
        "df = df.fillna({'job' : st.mode(df['job'])})"
      ]
    },
    {
      "cell_type": "code",
      "execution_count": null,
      "metadata": {
        "colab": {
          "base_uri": "https://localhost:8080/"
        },
        "id": "snGpCFMAVpio",
        "outputId": "3ab1f4f9-dfbd-448e-a749-0bcde593a4cc"
      },
      "outputs": [
        {
          "output_type": "execute_result",
          "data": {
            "text/plain": [
              "blue-collar      10018\n",
              "management        9457\n",
              "technician        7596\n",
              "admin.            5170\n",
              "services          4153\n",
              "retired           2264\n",
              "self-employed     1579\n",
              "entrepreneur      1487\n",
              "unemployed        1303\n",
              "housemaid         1240\n",
              "student            938\n",
              "Name: job, dtype: int64"
            ]
          },
          "metadata": {},
          "execution_count": 22
        }
      ],
      "source": [
        "df['job'].value_counts()"
      ]
    },
    {
      "cell_type": "markdown",
      "metadata": {
        "id": "LMw46rGFWN91"
      },
      "source": [
        "#### 'marital' Column"
      ]
    },
    {
      "cell_type": "code",
      "execution_count": null,
      "metadata": {
        "colab": {
          "base_uri": "https://localhost:8080/"
        },
        "id": "xZTSbOMuVtCy",
        "outputId": "fa29083c-99cd-488c-bf79-4511928f34b2"
      },
      "outputs": [
        {
          "output_type": "execute_result",
          "data": {
            "text/plain": [
              "married     27210\n",
              "single      12788\n",
              "divorced     5207\n",
              "Name: marital, dtype: int64"
            ]
          },
          "metadata": {},
          "execution_count": 23
        }
      ],
      "source": [
        "df['marital'].value_counts()\n",
        "# this column need no imputations or corrections"
      ]
    },
    {
      "cell_type": "markdown",
      "metadata": {
        "id": "43_hCxmzYJA5"
      },
      "source": [
        "#### 'education_qual' Column"
      ]
    },
    {
      "cell_type": "code",
      "execution_count": null,
      "metadata": {
        "colab": {
          "base_uri": "https://localhost:8080/"
        },
        "id": "TeUKHWGJX7Cl",
        "outputId": "b5c8f40c-71fd-4173-fa9e-4bd5009392c2"
      },
      "outputs": [
        {
          "output_type": "execute_result",
          "data": {
            "text/plain": [
              "secondary    23199\n",
              "tertiary     13299\n",
              "primary       6850\n",
              "unknown       1857\n",
              "Name: education_qual, dtype: int64"
            ]
          },
          "metadata": {},
          "execution_count": 24
        }
      ],
      "source": [
        "df['education_qual'].value_counts()"
      ]
    },
    {
      "cell_type": "code",
      "execution_count": null,
      "metadata": {
        "id": "SYX79V3GYFkn"
      },
      "outputs": [],
      "source": [
        "# imputing 'unknown' with mode\n",
        "df.loc[df['education_qual'] == 'unknown', 'education_qual'] = st.mode(df['education_qual'])"
      ]
    },
    {
      "cell_type": "code",
      "execution_count": null,
      "metadata": {
        "colab": {
          "base_uri": "https://localhost:8080/"
        },
        "id": "wfvbG3ByYoGB",
        "outputId": "30a3671a-3b2a-470c-8031-bd32610b8531"
      },
      "outputs": [
        {
          "output_type": "execute_result",
          "data": {
            "text/plain": [
              "secondary    25056\n",
              "tertiary     13299\n",
              "primary       6850\n",
              "Name: education_qual, dtype: int64"
            ]
          },
          "metadata": {},
          "execution_count": 26
        }
      ],
      "source": [
        "df['education_qual'].value_counts()"
      ]
    },
    {
      "cell_type": "markdown",
      "metadata": {
        "id": "AEvgxEfffUVg"
      },
      "source": [
        "#### 'call_type' Column"
      ]
    },
    {
      "cell_type": "code",
      "execution_count": null,
      "metadata": {
        "colab": {
          "base_uri": "https://localhost:8080/"
        },
        "id": "muVmrIKEfXNx",
        "outputId": "25eb2514-8828-49af-c633-474ea40e0602"
      },
      "outputs": [
        {
          "output_type": "execute_result",
          "data": {
            "text/plain": [
              "cellular     29282\n",
              "unknown      13017\n",
              "telephone     2906\n",
              "Name: call_type, dtype: int64"
            ]
          },
          "metadata": {},
          "execution_count": 27
        }
      ],
      "source": [
        "df['call_type'].value_counts()\n",
        "# the 'unknown' in this column are reasonable values in this column. They cannot be considered as null values\n",
        "# So, this column need no imputations or corrections"
      ]
    },
    {
      "cell_type": "markdown",
      "metadata": {
        "id": "Z8dwfVC2g3sK"
      },
      "source": [
        "#### 'day' Column"
      ]
    },
    {
      "cell_type": "code",
      "execution_count": null,
      "metadata": {
        "colab": {
          "base_uri": "https://localhost:8080/"
        },
        "id": "kYDTngFtfeS0",
        "outputId": "c2be60f9-5daa-414c-8237-7e3d86e6f6a2"
      },
      "outputs": [
        {
          "output_type": "execute_result",
          "data": {
            "text/plain": [
              "20    2752\n",
              "18    2308\n",
              "21    2026\n",
              "17    1939\n",
              "6     1932\n",
              "5     1910\n",
              "14    1848\n",
              "8     1840\n",
              "28    1829\n",
              "7     1817\n",
              "19    1756\n",
              "29    1745\n",
              "15    1703\n",
              "12    1603\n",
              "13    1585\n",
              "30    1566\n",
              "9     1560\n",
              "11    1479\n",
              "4     1445\n",
              "16    1415\n",
              "2     1292\n",
              "27    1121\n",
              "3     1079\n",
              "26    1035\n",
              "23     939\n",
              "22     905\n",
              "25     840\n",
              "31     643\n",
              "10     524\n",
              "24     447\n",
              "1      322\n",
              "Name: day, dtype: int64"
            ]
          },
          "metadata": {},
          "execution_count": 28
        }
      ],
      "source": [
        "df['day'].value_counts()\n",
        "# There are no unstructured data in this column. And\n",
        "# this column need no imputations or corrections"
      ]
    },
    {
      "cell_type": "markdown",
      "metadata": {
        "id": "A9D1-IVqhczq"
      },
      "source": [
        "#### 'mon' Column"
      ]
    },
    {
      "cell_type": "code",
      "execution_count": null,
      "metadata": {
        "colab": {
          "base_uri": "https://localhost:8080/"
        },
        "id": "hobigtCtg_nU",
        "outputId": "3773f7b2-02f0-4fe6-981f-ee81affa4ebe"
      },
      "outputs": [
        {
          "output_type": "execute_result",
          "data": {
            "text/plain": [
              "may    13765\n",
              "jul     6894\n",
              "aug     6245\n",
              "jun     5339\n",
              "nov     3970\n",
              "apr     2932\n",
              "feb     2649\n",
              "jan     1403\n",
              "oct      738\n",
              "sep      579\n",
              "mar      477\n",
              "dec      214\n",
              "Name: mon, dtype: int64"
            ]
          },
          "metadata": {},
          "execution_count": 29
        }
      ],
      "source": [
        "df['mon'].value_counts()\n",
        "# There are no unstructured data in this column. And\n",
        "# this column need no imputations or corrections"
      ]
    },
    {
      "cell_type": "markdown",
      "metadata": {
        "id": "nnbSitjKhzB7"
      },
      "source": [
        "#### 'dur' Column"
      ]
    },
    {
      "cell_type": "code",
      "execution_count": null,
      "metadata": {
        "colab": {
          "base_uri": "https://localhost:8080/"
        },
        "id": "5eQD9b0QhqAM",
        "outputId": "3df4f43c-9868-4e1b-fa8b-011f11b5517e"
      },
      "outputs": [
        {
          "output_type": "execute_result",
          "data": {
            "text/plain": [
              "count    45205.000000\n",
              "mean       258.183055\n",
              "std        257.538504\n",
              "min          0.000000\n",
              "25%        103.000000\n",
              "50%        180.000000\n",
              "75%        319.000000\n",
              "max       4918.000000\n",
              "Name: dur, dtype: float64"
            ]
          },
          "metadata": {},
          "execution_count": 30
        }
      ],
      "source": [
        "df['dur'].describe()\n",
        "# The max value is very high compared to q3. So, clipping of outliers required"
      ]
    },
    {
      "cell_type": "code",
      "execution_count": null,
      "metadata": {
        "id": "0JGm9FOYiAeL"
      },
      "outputs": [],
      "source": [
        "q1 = df['dur'].quantile(0.25)\n",
        "q3 = df['dur'].quantile(0.75)\n",
        "iqr = q3-q1"
      ]
    },
    {
      "cell_type": "code",
      "execution_count": null,
      "metadata": {
        "id": "XsysPiU-iPHK"
      },
      "outputs": [],
      "source": [
        "lower_threshold = round(q1-(1.5*iqr))\n",
        "upper_threshold  = round(q3+(1.5*iqr))"
      ]
    },
    {
      "cell_type": "code",
      "execution_count": null,
      "metadata": {
        "colab": {
          "base_uri": "https://localhost:8080/"
        },
        "id": "kSsqjmHViXMB",
        "outputId": "5c951f93-9687-4bf5-a903-66c0eb258662"
      },
      "outputs": [
        {
          "output_type": "execute_result",
          "data": {
            "text/plain": [
              "(-221, 643)"
            ]
          },
          "metadata": {},
          "execution_count": 33
        }
      ],
      "source": [
        "lower_threshold, upper_threshold"
      ]
    },
    {
      "cell_type": "code",
      "execution_count": null,
      "metadata": {
        "id": "hwHBlrtniuVg"
      },
      "outputs": [],
      "source": [
        "df['dur'] = df['dur'].clip(lower_threshold, upper_threshold)"
      ]
    },
    {
      "cell_type": "code",
      "execution_count": null,
      "metadata": {
        "colab": {
          "base_uri": "https://localhost:8080/"
        },
        "id": "XKd2udGRjGVZ",
        "outputId": "a5102c83-bfc5-4049-ac75-d96531e0d851"
      },
      "outputs": [
        {
          "output_type": "execute_result",
          "data": {
            "text/plain": [
              "count    45205.00000\n",
              "mean       234.95620\n",
              "std        176.75476\n",
              "min          0.00000\n",
              "25%        103.00000\n",
              "50%        180.00000\n",
              "75%        319.00000\n",
              "max        643.00000\n",
              "Name: dur, dtype: float64"
            ]
          },
          "metadata": {},
          "execution_count": 35
        }
      ],
      "source": [
        "df['dur'].describe()"
      ]
    },
    {
      "cell_type": "markdown",
      "metadata": {
        "id": "ieBcolCrjqSg"
      },
      "source": [
        "#### 'num_calls' Column"
      ]
    },
    {
      "cell_type": "code",
      "execution_count": null,
      "metadata": {
        "colab": {
          "base_uri": "https://localhost:8080/"
        },
        "id": "uMN_EkSzjKt8",
        "outputId": "7baf40be-3828-4bed-8ea3-bd539b31cf30"
      },
      "outputs": [
        {
          "output_type": "execute_result",
          "data": {
            "text/plain": [
              "1     17542\n",
              "2     12503\n",
              "3      5521\n",
              "4      3520\n",
              "5      1764\n",
              "6      1291\n",
              "7       735\n",
              "8       540\n",
              "9       327\n",
              "10      266\n",
              "11      201\n",
              "12      155\n",
              "13      133\n",
              "14       93\n",
              "15       84\n",
              "16       79\n",
              "17       69\n",
              "18       51\n",
              "19       44\n",
              "20       43\n",
              "21       35\n",
              "22       23\n",
              "25       22\n",
              "23       22\n",
              "24       20\n",
              "29       16\n",
              "28       16\n",
              "26       13\n",
              "31       12\n",
              "27       10\n",
              "32        9\n",
              "30        8\n",
              "33        6\n",
              "34        5\n",
              "36        4\n",
              "35        4\n",
              "43        3\n",
              "38        3\n",
              "37        2\n",
              "50        2\n",
              "41        2\n",
              "46        1\n",
              "58        1\n",
              "55        1\n",
              "63        1\n",
              "51        1\n",
              "39        1\n",
              "44        1\n",
              "Name: num_calls, dtype: int64"
            ]
          },
          "metadata": {},
          "execution_count": 36
        }
      ],
      "source": [
        "df['num_calls'].value_counts()\n",
        "# the customers who had number of calls more than 10 are very less. It needs clipping"
      ]
    },
    {
      "cell_type": "code",
      "execution_count": null,
      "metadata": {
        "colab": {
          "base_uri": "https://localhost:8080/"
        },
        "id": "2zaU9Y1Djxh4",
        "outputId": "f12299f0-41e3-406a-a0c5-a44d3bad4cfc"
      },
      "outputs": [
        {
          "output_type": "execute_result",
          "data": {
            "text/plain": [
              "count    45205.000000\n",
              "mean         2.763898\n",
              "std          3.098189\n",
              "min          1.000000\n",
              "25%          1.000000\n",
              "50%          2.000000\n",
              "75%          3.000000\n",
              "max         63.000000\n",
              "Name: num_calls, dtype: float64"
            ]
          },
          "metadata": {},
          "execution_count": 37
        }
      ],
      "source": [
        "df['num_calls'].describe()"
      ]
    },
    {
      "cell_type": "code",
      "execution_count": null,
      "metadata": {
        "id": "wUj0r0L8mAsX"
      },
      "outputs": [],
      "source": [
        "q1 = df['num_calls'].quantile(0.25)\n",
        "q3 = df['num_calls'].quantile(0.75)\n",
        "iqr = q3-q1"
      ]
    },
    {
      "cell_type": "code",
      "execution_count": null,
      "metadata": {
        "id": "5cHC0xj2mr4m"
      },
      "outputs": [],
      "source": [
        "lower_threshold = round(q1-(1.5*iqr))\n",
        "upper_threshold  = round(q3+(1.5*iqr))"
      ]
    },
    {
      "cell_type": "code",
      "execution_count": null,
      "metadata": {
        "colab": {
          "base_uri": "https://localhost:8080/"
        },
        "id": "_Yro0qm0ms9D",
        "outputId": "63ce23f6-4e67-40c9-9898-b612288a889a"
      },
      "outputs": [
        {
          "output_type": "execute_result",
          "data": {
            "text/plain": [
              "(-2, 6)"
            ]
          },
          "metadata": {},
          "execution_count": 40
        }
      ],
      "source": [
        "lower_threshold, upper_threshold"
      ]
    },
    {
      "cell_type": "code",
      "execution_count": null,
      "metadata": {
        "id": "L7LL-cTkmxFW"
      },
      "outputs": [],
      "source": [
        "df['num_calls'] = df['num_calls'].clip(lower_threshold, upper_threshold)"
      ]
    },
    {
      "cell_type": "code",
      "execution_count": null,
      "metadata": {
        "colab": {
          "base_uri": "https://localhost:8080/"
        },
        "id": "yROAafVGm6mk",
        "outputId": "0fbcda7f-bac6-41d3-ccbf-5b34d3202fa8"
      },
      "outputs": [
        {
          "output_type": "execute_result",
          "data": {
            "text/plain": [
              "count    45205.000000\n",
              "mean         2.392235\n",
              "std          1.600152\n",
              "min          1.000000\n",
              "25%          1.000000\n",
              "50%          2.000000\n",
              "75%          3.000000\n",
              "max          6.000000\n",
              "Name: num_calls, dtype: float64"
            ]
          },
          "metadata": {},
          "execution_count": 42
        }
      ],
      "source": [
        "df['num_calls'].describe()"
      ]
    },
    {
      "cell_type": "markdown",
      "metadata": {
        "id": "xgG1I6XCnJ2C"
      },
      "source": [
        "#### 'prev_outcome' Column"
      ]
    },
    {
      "cell_type": "code",
      "execution_count": null,
      "metadata": {
        "colab": {
          "base_uri": "https://localhost:8080/"
        },
        "id": "7YaG90RSm9g5",
        "outputId": "231cd543-96b1-46a1-8fe9-f2f940751277"
      },
      "outputs": [
        {
          "output_type": "execute_result",
          "data": {
            "text/plain": [
              "unknown    36953\n",
              "failure     4901\n",
              "other       1840\n",
              "success     1511\n",
              "Name: prev_outcome, dtype: int64"
            ]
          },
          "metadata": {},
          "execution_count": 43
        }
      ],
      "source": [
        "df['prev_outcome'].value_counts()\n",
        "# the 'unknown' in this column are reasonable values in this column. They cannot be considered as null values\n",
        "# So, this column need no imputations or corrections"
      ]
    },
    {
      "cell_type": "markdown",
      "metadata": {
        "id": "fpQExEo3op73"
      },
      "source": [
        "#### 'y' Column"
      ]
    },
    {
      "cell_type": "code",
      "execution_count": null,
      "metadata": {
        "colab": {
          "base_uri": "https://localhost:8080/"
        },
        "id": "6-sQ63yEos23",
        "outputId": "6e034b99-2a4f-43f1-9cf4-2bf04f2d0cea"
      },
      "outputs": [
        {
          "output_type": "execute_result",
          "data": {
            "text/plain": [
              "no     39916\n",
              "yes     5289\n",
              "Name: y, dtype: int64"
            ]
          },
          "metadata": {},
          "execution_count": 44
        }
      ],
      "source": [
        "df['y'].value_counts()\n",
        "# There are no unstructured data in this column. And\n",
        "# this column need no imputations or corrections"
      ]
    },
    {
      "cell_type": "markdown",
      "metadata": {
        "id": "ZfLojegjoRAj"
      },
      "source": [
        "## Final Checks"
      ]
    },
    {
      "cell_type": "code",
      "execution_count": null,
      "metadata": {
        "colab": {
          "base_uri": "https://localhost:8080/"
        },
        "id": "79__xn0fnSKu",
        "outputId": "ccf9db06-582e-4e67-be5a-425ec9cce905"
      },
      "outputs": [
        {
          "output_type": "execute_result",
          "data": {
            "text/plain": [
              "age               0\n",
              "job               0\n",
              "marital           0\n",
              "education_qual    0\n",
              "call_type         0\n",
              "day               0\n",
              "mon               0\n",
              "dur               0\n",
              "num_calls         0\n",
              "prev_outcome      0\n",
              "y                 0\n",
              "dtype: int64"
            ]
          },
          "metadata": {},
          "execution_count": 45
        }
      ],
      "source": [
        "df.isnull().sum()"
      ]
    },
    {
      "cell_type": "code",
      "execution_count": null,
      "metadata": {
        "colab": {
          "base_uri": "https://localhost:8080/"
        },
        "id": "6i5HzhGQohjR",
        "outputId": "66ea5b9b-6c7f-4ab6-b944-acc63d2462d5"
      },
      "outputs": [
        {
          "output_type": "execute_result",
          "data": {
            "text/plain": [
              "age                int64\n",
              "job               object\n",
              "marital           object\n",
              "education_qual    object\n",
              "call_type         object\n",
              "day                int64\n",
              "mon               object\n",
              "dur                int64\n",
              "num_calls          int64\n",
              "prev_outcome      object\n",
              "y                 object\n",
              "dtype: object"
            ]
          },
          "metadata": {},
          "execution_count": 46
        }
      ],
      "source": [
        "df.dtypes"
      ]
    },
    {
      "cell_type": "code",
      "execution_count": null,
      "metadata": {
        "id": "ar1etgt6okeZ"
      },
      "outputs": [],
      "source": [
        "df = df.drop_duplicates()"
      ]
    },
    {
      "cell_type": "code",
      "execution_count": null,
      "metadata": {
        "colab": {
          "base_uri": "https://localhost:8080/"
        },
        "id": "A4-d9Gz0o6Dc",
        "outputId": "077a3178-6121-4e88-8e14-87efc7ae2505"
      },
      "outputs": [
        {
          "output_type": "execute_result",
          "data": {
            "text/plain": [
              "(45194, 11)"
            ]
          },
          "metadata": {},
          "execution_count": 48
        }
      ],
      "source": [
        "df.shape"
      ]
    },
    {
      "cell_type": "markdown",
      "metadata": {
        "id": "-4v18jCP7qsg"
      },
      "source": [
        "## Countplot of the Distribution of Categorical Features in the Data"
      ]
    },
    {
      "cell_type": "code",
      "execution_count": null,
      "metadata": {
        "colab": {
          "base_uri": "https://localhost:8080/"
        },
        "id": "72X9Zgseo7M_",
        "outputId": "7902dcf3-ccc6-4a59-8bce-a01206f0b945"
      },
      "outputs": [
        {
          "output_type": "execute_result",
          "data": {
            "text/plain": [
              "Index(['student', 'housemaid', 'unemployed', 'entrepreneur', 'self-employed',\n",
              "       'retired', 'services', 'admin.', 'technician', 'management',\n",
              "       'blue-collar'],\n",
              "      dtype='object')"
            ]
          },
          "metadata": {},
          "execution_count": 49
        }
      ],
      "source": [
        "df['job'].value_counts().index[::-1]\n",
        "# to get the unique values in ascending order of the value_counts"
      ]
    },
    {
      "cell_type": "code",
      "execution_count": null,
      "metadata": {
        "colab": {
          "base_uri": "https://localhost:8080/"
        },
        "id": "roHp3cg08izr",
        "outputId": "ec4512a1-5dd0-4132-8d48-48bc508648c2"
      },
      "outputs": [
        {
          "output_type": "stream",
          "name": "stdout",
          "text": [
            "Collecting seaborn==0.11\n",
            "  Downloading seaborn-0.11.0-py3-none-any.whl (283 kB)\n",
            "\u001b[?25l     \u001b[90m━━━━━━━━━━━━━━━━━━━━━━━━━━━━━━━━━━━━━━━━\u001b[0m \u001b[32m0.0/283.1 kB\u001b[0m \u001b[31m?\u001b[0m eta \u001b[36m-:--:--\u001b[0m\r\u001b[2K     \u001b[90m━━━━━━━━━━━━━━━━━━━━━━━━━━━━━━━━━━━━━━━\u001b[0m \u001b[32m283.1/283.1 kB\u001b[0m \u001b[31m9.1 MB/s\u001b[0m eta \u001b[36m0:00:00\u001b[0m\n",
            "\u001b[?25hRequirement already satisfied: numpy>=1.15 in /usr/local/lib/python3.10/dist-packages (from seaborn==0.11) (1.22.4)\n",
            "Requirement already satisfied: scipy>=1.0 in /usr/local/lib/python3.10/dist-packages (from seaborn==0.11) (1.10.1)\n",
            "Requirement already satisfied: pandas>=0.23 in /usr/local/lib/python3.10/dist-packages (from seaborn==0.11) (1.5.3)\n",
            "Requirement already satisfied: matplotlib>=2.2 in /usr/local/lib/python3.10/dist-packages (from seaborn==0.11) (3.7.1)\n",
            "Requirement already satisfied: contourpy>=1.0.1 in /usr/local/lib/python3.10/dist-packages (from matplotlib>=2.2->seaborn==0.11) (1.1.0)\n",
            "Requirement already satisfied: cycler>=0.10 in /usr/local/lib/python3.10/dist-packages (from matplotlib>=2.2->seaborn==0.11) (0.11.0)\n",
            "Requirement already satisfied: fonttools>=4.22.0 in /usr/local/lib/python3.10/dist-packages (from matplotlib>=2.2->seaborn==0.11) (4.40.0)\n",
            "Requirement already satisfied: kiwisolver>=1.0.1 in /usr/local/lib/python3.10/dist-packages (from matplotlib>=2.2->seaborn==0.11) (1.4.4)\n",
            "Requirement already satisfied: packaging>=20.0 in /usr/local/lib/python3.10/dist-packages (from matplotlib>=2.2->seaborn==0.11) (23.1)\n",
            "Requirement already satisfied: pillow>=6.2.0 in /usr/local/lib/python3.10/dist-packages (from matplotlib>=2.2->seaborn==0.11) (8.4.0)\n",
            "Requirement already satisfied: pyparsing>=2.3.1 in /usr/local/lib/python3.10/dist-packages (from matplotlib>=2.2->seaborn==0.11) (3.1.0)\n",
            "Requirement already satisfied: python-dateutil>=2.7 in /usr/local/lib/python3.10/dist-packages (from matplotlib>=2.2->seaborn==0.11) (2.8.2)\n",
            "Requirement already satisfied: pytz>=2020.1 in /usr/local/lib/python3.10/dist-packages (from pandas>=0.23->seaborn==0.11) (2022.7.1)\n",
            "Requirement already satisfied: six>=1.5 in /usr/local/lib/python3.10/dist-packages (from python-dateutil>=2.7->matplotlib>=2.2->seaborn==0.11) (1.16.0)\n",
            "Installing collected packages: seaborn\n",
            "  Attempting uninstall: seaborn\n",
            "    Found existing installation: seaborn 0.12.2\n",
            "    Uninstalling seaborn-0.12.2:\n",
            "      Successfully uninstalled seaborn-0.12.2\n",
            "Successfully installed seaborn-0.11.0\n"
          ]
        }
      ],
      "source": [
        "!pip install seaborn==0.11"
      ]
    },
    {
      "cell_type": "code",
      "execution_count": null,
      "metadata": {
        "id": "VwCUHudtNTJN"
      },
      "outputs": [],
      "source": [
        "import seaborn as sns"
      ]
    },
    {
      "cell_type": "code",
      "execution_count": null,
      "metadata": {
        "colab": {
          "base_uri": "https://localhost:8080/",
          "height": 627
        },
        "id": "6qNxPkTR8YIa",
        "outputId": "dec57b85-dea0-4235-8fd1-1a1a0d092a37"
      },
      "outputs": [
        {
          "output_type": "stream",
          "name": "stderr",
          "text": [
            "/usr/local/lib/python3.10/dist-packages/seaborn/_decorators.py:36: FutureWarning: Pass the following variable as a keyword arg: x. From version 0.12, the only valid positional argument will be `data`, and passing other arguments without an explicit keyword will result in an error or misinterpretation.\n",
            "  warnings.warn(\n"
          ]
        },
        {
          "output_type": "execute_result",
          "data": {
            "text/plain": [
              "Text(0.5, 1.0, 'Customers according to job')"
            ]
          },
          "metadata": {},
          "execution_count": 52
        },
        {
          "output_type": "display_data",
          "data": {
            "text/plain": [
              "<Figure size 640x480 with 1 Axes>"
            ],
            "image/png": "[encoded data removed]"
          },
          "metadata": {}
        }
      ],
      "source": [
        "sns.countplot(df['job'], order = df['job'].value_counts().index[::-1])\n",
        "plt.xticks(rotation=90)\n",
        "plt.xlabel('Job')\n",
        "plt.ylabel('count')\n",
        "plt.title('Customers according to job')\n",
        "\n",
        "# Insights\n",
        "# Acc to the distribution of 'job' feature, most of the calls were made to blue-collar followed by management followed by technician\n",
        "# The least number of calls were made to students, house-maid, unemployed"
      ]
    },
    {
      "cell_type": "code",
      "execution_count": null,
      "metadata": {
        "colab": {
          "base_uri": "https://localhost:8080/",
          "height": 590
        },
        "id": "VO5EenDbC3yl",
        "outputId": "ec16314d-3dcf-41d0-befb-010928dea6a7"
      },
      "outputs": [
        {
          "output_type": "stream",
          "name": "stderr",
          "text": [
            "/usr/local/lib/python3.10/dist-packages/seaborn/_decorators.py:36: FutureWarning: Pass the following variable as a keyword arg: x. From version 0.12, the only valid positional argument will be `data`, and passing other arguments without an explicit keyword will result in an error or misinterpretation.\n",
            "  warnings.warn(\n"
          ]
        },
        {
          "output_type": "execute_result",
          "data": {
            "text/plain": [
              "Text(0.5, 1.0, 'Customers according to marital status')"
            ]
          },
          "metadata": {},
          "execution_count": 53
        },
        {
          "output_type": "display_data",
          "data": {
            "text/plain": [
              "<Figure size 640x480 with 1 Axes>"
            ],
            "image/png": "[encoded data removed]"
          },
          "metadata": {}
        }
      ],
      "source": [
        "sns.countplot(df['marital'], order = df['marital'].value_counts().index[::-1])\n",
        "plt.xticks(rotation=90)\n",
        "plt.xlabel('marital status')\n",
        "plt.ylabel('count')\n",
        "plt.title('Customers according to marital status')\n",
        "\n",
        "# Insights\n",
        "# Acc to the distribution of 'marital' feature, most calls were made to married followed by single\n",
        "# Least calls were made to divorced"
      ]
    },
    {
      "cell_type": "code",
      "execution_count": null,
      "metadata": {
        "colab": {
          "base_uri": "https://localhost:8080/",
          "height": 562
        },
        "id": "Holjo1OVHPR3",
        "outputId": "23bfa0df-1f0b-4d7c-b94a-1d3bcdca6384"
      },
      "outputs": [
        {
          "output_type": "stream",
          "name": "stderr",
          "text": [
            "/usr/local/lib/python3.10/dist-packages/seaborn/_decorators.py:36: FutureWarning: Pass the following variable as a keyword arg: x. From version 0.12, the only valid positional argument will be `data`, and passing other arguments without an explicit keyword will result in an error or misinterpretation.\n",
            "  warnings.warn(\n"
          ]
        },
        {
          "output_type": "execute_result",
          "data": {
            "text/plain": [
              "Text(0.5, 1.0, 'Customers according to education qualification')"
            ]
          },
          "metadata": {},
          "execution_count": 54
        },
        {
          "output_type": "display_data",
          "data": {
            "text/plain": [
              "<Figure size 640x480 with 1 Axes>"
            ],
            "image/png": "[encoded data removed]"
          },
          "metadata": {}
        }
      ],
      "source": [
        "sns.countplot(df['education_qual'], order = df['education_qual'].value_counts().index[::-1])\n",
        "plt.xticks(rotation=15)\n",
        "plt.xlabel('education qualification')\n",
        "plt.ylabel('count')\n",
        "plt.title('Customers according to education qualification')\n",
        "\n",
        "# Insights\n",
        "# Acc to the distribution of 'education_qual' feature, most calls were made to secondary followed by tertiary\n",
        "# Least calls were made to primary"
      ]
    },
    {
      "cell_type": "code",
      "execution_count": null,
      "metadata": {
        "colab": {
          "base_uri": "https://localhost:8080/",
          "height": 561
        },
        "id": "XpDgi8E1KxP-",
        "outputId": "71589219-bc45-48f3-cb2d-dc8a23b8cc46"
      },
      "outputs": [
        {
          "output_type": "stream",
          "name": "stderr",
          "text": [
            "/usr/local/lib/python3.10/dist-packages/seaborn/_decorators.py:36: FutureWarning: Pass the following variable as a keyword arg: x. From version 0.12, the only valid positional argument will be `data`, and passing other arguments without an explicit keyword will result in an error or misinterpretation.\n",
            "  warnings.warn(\n"
          ]
        },
        {
          "output_type": "execute_result",
          "data": {
            "text/plain": [
              "Text(0.5, 1.0, 'Customers according to call type')"
            ]
          },
          "metadata": {},
          "execution_count": 55
        },
        {
          "output_type": "display_data",
          "data": {
            "text/plain": [
              "<Figure size 640x480 with 1 Axes>"
            ],
            "image/png": "[encoded data removed]"
          },
          "metadata": {}
        }
      ],
      "source": [
        "sns.countplot(df['call_type'], order = df['call_type'].value_counts().index[::-1])\n",
        "plt.xticks(rotation=15)\n",
        "plt.xlabel('call type')\n",
        "plt.ylabel('count')\n",
        "plt.title('Customers according to call type')\n",
        "\n",
        "# Insights\n",
        "# Acc to the distribution of 'call_type' feature, most calls were made to cellular followed by unknown\n",
        "# Least calls were made to telephone"
      ]
    },
    {
      "cell_type": "code",
      "execution_count": null,
      "metadata": {
        "colab": {
          "base_uri": "https://localhost:8080/",
          "height": 547
        },
        "id": "mr1aAwBCLEJ0",
        "outputId": "2f3a5ff6-917c-4cea-a2d6-5f9603c7d66a"
      },
      "outputs": [
        {
          "output_type": "stream",
          "name": "stderr",
          "text": [
            "/usr/local/lib/python3.10/dist-packages/seaborn/_decorators.py:36: FutureWarning: Pass the following variable as a keyword arg: x. From version 0.12, the only valid positional argument will be `data`, and passing other arguments without an explicit keyword will result in an error or misinterpretation.\n",
            "  warnings.warn(\n"
          ]
        },
        {
          "output_type": "execute_result",
          "data": {
            "text/plain": [
              "Text(0.5, 1.0, 'Customers according to day of the month')"
            ]
          },
          "metadata": {},
          "execution_count": 56
        },
        {
          "output_type": "display_data",
          "data": {
            "text/plain": [
              "<Figure size 640x480 with 1 Axes>"
            ],
            "image/png": "[encoded data removed]"
          },
          "metadata": {}
        }
      ],
      "source": [
        "# Here day is considered as categorical feature since it have unique values from 1 to 31 and we can see the distribution of it\n",
        "sns.countplot(df['day'], order = df['day'].value_counts().index[::-1])\n",
        "plt.xticks(rotation=90)\n",
        "plt.xlabel('day of the month')\n",
        "plt.ylabel('count')\n",
        "plt.title('Customers according to day of the month')\n",
        "\n",
        "# Insights\n",
        "# Acc to the distribution of 'day' feature, most calls were made on 20th day followed by 18th day followed by 21st day\n",
        "# Least calls were made on 1st, 24th, 10th days"
      ]
    },
    {
      "cell_type": "code",
      "execution_count": null,
      "metadata": {
        "colab": {
          "base_uri": "https://localhost:8080/",
          "height": 560
        },
        "id": "zHB2I0EELYUm",
        "outputId": "4de992a1-0a72-4331-d210-73deea7254d1"
      },
      "outputs": [
        {
          "output_type": "stream",
          "name": "stderr",
          "text": [
            "/usr/local/lib/python3.10/dist-packages/seaborn/_decorators.py:36: FutureWarning: Pass the following variable as a keyword arg: x. From version 0.12, the only valid positional argument will be `data`, and passing other arguments without an explicit keyword will result in an error or misinterpretation.\n",
            "  warnings.warn(\n"
          ]
        },
        {
          "output_type": "execute_result",
          "data": {
            "text/plain": [
              "Text(0.5, 1.0, 'Customers according to month')"
            ]
          },
          "metadata": {},
          "execution_count": 57
        },
        {
          "output_type": "display_data",
          "data": {
            "text/plain": [
              "<Figure size 640x480 with 1 Axes>"
            ],
            "image/png": "[encoded data removed]"
          },
          "metadata": {}
        }
      ],
      "source": [
        "sns.countplot(df['mon'], order = df['mon'].value_counts().index[::-1])\n",
        "plt.xticks(rotation=90)\n",
        "plt.xlabel('month')\n",
        "plt.ylabel('count')\n",
        "plt.title('Customers according to month')\n",
        "\n",
        "# Insights\n",
        "# Acc to the distribution of 'mon' feature, most of the calls were made on May followed by July followed by August\n",
        "# The least number of calls were made on Dec, Mar, Sept"
      ]
    },
    {
      "cell_type": "code",
      "execution_count": null,
      "metadata": {
        "colab": {
          "base_uri": "https://localhost:8080/",
          "height": 560
        },
        "id": "I9kTxmJ8L_Lg",
        "outputId": "4d75f847-99b1-42fc-8d24-add23a0fb60b"
      },
      "outputs": [
        {
          "output_type": "stream",
          "name": "stderr",
          "text": [
            "/usr/local/lib/python3.10/dist-packages/seaborn/_decorators.py:36: FutureWarning: Pass the following variable as a keyword arg: x. From version 0.12, the only valid positional argument will be `data`, and passing other arguments without an explicit keyword will result in an error or misinterpretation.\n",
            "  warnings.warn(\n"
          ]
        },
        {
          "output_type": "execute_result",
          "data": {
            "text/plain": [
              "Text(0.5, 1.0, 'Customers according to previous outcome')"
            ]
          },
          "metadata": {},
          "execution_count": 58
        },
        {
          "output_type": "display_data",
          "data": {
            "text/plain": [
              "<Figure size 640x480 with 1 Axes>"
            ],
            "image/png": "[encoded data removed]"
          },
          "metadata": {}
        }
      ],
      "source": [
        "sns.countplot(df['prev_outcome'], order = df['prev_outcome'].value_counts().index[::-1])\n",
        "plt.xticks(rotation=15)\n",
        "plt.xlabel('previous outcome')\n",
        "plt.ylabel('count')\n",
        "plt.title('Customers according to previous outcome')\n",
        "\n",
        "# Insights\n",
        "# Acc to the distribution of 'prev_outcome' feature, the status of most of the calls are unknown followed by failure followed by other\n",
        "# The least number of calls status are success here"
      ]
    },
    {
      "cell_type": "markdown",
      "metadata": {
        "id": "K1UDtDceNJCx"
      },
      "source": [
        "## Boxplot of the Distribution of Continuous Features in the Data"
      ]
    },
    {
      "cell_type": "code",
      "execution_count": null,
      "metadata": {
        "colab": {
          "base_uri": "https://localhost:8080/",
          "height": 489
        },
        "id": "v7-no8GHMXZw",
        "outputId": "5ab2a0ae-6799-4abf-9dca-9d2b3afa610a"
      },
      "outputs": [
        {
          "output_type": "execute_result",
          "data": {
            "text/plain": [
              "Text(0.5, 1.0, 'Customers according to age')"
            ]
          },
          "metadata": {},
          "execution_count": 59
        },
        {
          "output_type": "display_data",
          "data": {
            "text/plain": [
              "<Figure size 640x480 with 1 Axes>"
            ],
            "image/png": "[encoded data removed]"
          },
          "metadata": {}
        }
      ],
      "source": [
        "sns.boxplot(x = df['age'])\n",
        "plt.title('Customers according to age')\n",
        "\n",
        "# Insights\n",
        "# Acc to the distribution of 'age' feature, most calls were made to the people of age between 32 to 48 approximately\n",
        "# The median lies around 39 approximately\n",
        "# Since clipping of 'age' column is already done, there are no outliers found in this plot"
      ]
    },
    {
      "cell_type": "code",
      "execution_count": null,
      "metadata": {
        "colab": {
          "base_uri": "https://localhost:8080/",
          "height": 489
        },
        "id": "WYyUQfBBQbLI",
        "outputId": "37f7ff80-f4a5-441a-8640-3f3f40aa886b"
      },
      "outputs": [
        {
          "output_type": "execute_result",
          "data": {
            "text/plain": [
              "Text(0.5, 1.0, 'Customers according to duration of a call')"
            ]
          },
          "metadata": {},
          "execution_count": 60
        },
        {
          "output_type": "display_data",
          "data": {
            "text/plain": [
              "<Figure size 640x480 with 1 Axes>"
            ],
            "image/png": "[encoded data removed]"
          },
          "metadata": {}
        }
      ],
      "source": [
        "sns.boxplot(x = df['dur'])\n",
        "plt.title('Customers according to duration of a call')\n",
        "\n",
        "# Insights\n",
        "# Acc to the distribution of 'dur' feature, most calls lasted in the range of 100 to 320 seconds approximately\n",
        "# The median lies around 180 approximately\n",
        "# Since clipping of 'dur' column is already done, there are no outliers found in this plot"
      ]
    },
    {
      "cell_type": "code",
      "execution_count": null,
      "metadata": {
        "colab": {
          "base_uri": "https://localhost:8080/",
          "height": 489
        },
        "id": "qBRxRCd9RY2q",
        "outputId": "87444e03-1c49-4d93-8566-eb5fb84d954e"
      },
      "outputs": [
        {
          "output_type": "execute_result",
          "data": {
            "text/plain": [
              "Text(0.5, 1.0, 'Customers according to number of calls made to a customer')"
            ]
          },
          "metadata": {},
          "execution_count": 61
        },
        {
          "output_type": "display_data",
          "data": {
            "text/plain": [
              "<Figure size 640x480 with 1 Axes>"
            ],
            "image/png": "[encoded data removed]"
          },
          "metadata": {}
        }
      ],
      "source": [
        "sns.boxplot(x = df['num_calls'])\n",
        "plt.title('Customers according to number of calls made to a customer')\n",
        "\n",
        "# Insights\n",
        "# Acc to the distribution of 'num_calls' feature, the highest number of calls made to a customer is in the range of 1 to 3\n",
        "# The median lies around 2 approximately\n",
        "# Since clipping of 'num_calls' column is already done, there are no outliers found in this plot"
      ]
    },
    {
      "cell_type": "markdown",
      "metadata": {
        "id": "Hf2fYXCUSWX1"
      },
      "source": [
        "## Countplot of the Distribution of Target Variable in the Data"
      ]
    },
    {
      "cell_type": "code",
      "execution_count": null,
      "metadata": {
        "colab": {
          "base_uri": "https://localhost:8080/",
          "height": 544
        },
        "id": "aUgcbOjwO4ad",
        "outputId": "03ffa01b-b9ec-4c4f-bbd9-65611e20dd62"
      },
      "outputs": [
        {
          "output_type": "stream",
          "name": "stderr",
          "text": [
            "/usr/local/lib/python3.10/dist-packages/seaborn/_decorators.py:36: FutureWarning: Pass the following variable as a keyword arg: x. From version 0.12, the only valid positional argument will be `data`, and passing other arguments without an explicit keyword will result in an error or misinterpretation.\n",
            "  warnings.warn(\n"
          ]
        },
        {
          "output_type": "execute_result",
          "data": {
            "text/plain": [
              "Text(0.5, 1.0, 'Customers according to target variable')"
            ]
          },
          "metadata": {},
          "execution_count": 62
        },
        {
          "output_type": "display_data",
          "data": {
            "text/plain": [
              "<Figure size 640x480 with 1 Axes>"
            ],
            "image/png": "[encoded data removed]"
          },
          "metadata": {}
        }
      ],
      "source": [
        "sns.countplot(df['y'], order = df['y'].value_counts().index[::-1])\n",
        "plt.xlabel('target')\n",
        "plt.ylabel('count')\n",
        "plt.title('Customers according to target variable')\n",
        "\n",
        "# Insights\n",
        "# Acc to the distribution of the target variable, Most of the calls made to customers lead to the people not taking the insurance\n",
        "# Very less number of customers atlast are opting for insurance\n",
        "# From this plot, it is clearly seen that it is an imbalanced target data.\n",
        "# We need to balance it before applying any ML techniques to get the perfect result"
      ]
    },
    {
      "cell_type": "markdown",
      "metadata": {
        "id": "w0tM4GGPezDg"
      },
      "source": [
        "## Feature v/s Target Plot for Categorical Columns"
      ]
    },
    {
      "cell_type": "code",
      "execution_count": null,
      "metadata": {
        "id": "7-p4MQn4eY0N"
      },
      "outputs": [],
      "source": [
        "# Encoding the target variable to 1 and 0\n",
        "df['y'] = df['y'].map({'yes' : 1, 'no' : 0})"
      ]
    },
    {
      "cell_type": "code",
      "execution_count": null,
      "metadata": {
        "colab": {
          "base_uri": "https://localhost:8080/",
          "height": 489
        },
        "id": "HAnxEqKLfvEJ",
        "outputId": "5883b439-165b-496f-e59f-2bd65d702ad2"
      },
      "outputs": [
        {
          "output_type": "execute_result",
          "data": {
            "text/plain": [
              "Text(0.5, 1.0, 'Distribution of job with respect to customers who opted for insurance')"
            ]
          },
          "metadata": {},
          "execution_count": 64
        },
        {
          "output_type": "display_data",
          "data": {
            "text/plain": [
              "<Figure size 640x480 with 1 Axes>"
            ],
            "image/png": "[encoded data removed]"
          },
          "metadata": {}
        }
      ],
      "source": [
        "df.groupby('job')['y'].mean().sort_values().plot(kind = 'barh')\n",
        "plt.xlabel('Distribution of job with respect to target')\n",
        "plt.title('Distribution of job with respect to customers who opted for insurance')"
      ]
    },
    {
      "cell_type": "markdown",
      "metadata": {
        "id": "aCEFXwkPjYu9"
      },
      "source": [
        "### Insights\n",
        "From the 'job' v/s 'y' barplot, the most who are opting for insurance are student followed by retired followed by unemployed.\n",
        "\n",
        "The least in this plot are blue-collar, entreprenuer, house-maid\n",
        "\n",
        "With respect to target variable, 'job' column have linearly increasing pattern. So, Label Encoding shall be done to this column\n",
        "\n",
        "### Suggestion to the company\n",
        "\n",
        "When comparing Distribution of the feature 'job' and 'job' v/s 'y' barplot, More number of customers from student, retired and unemployed are opting for insurance. But these types of customers were called the least.\n",
        "\n",
        "Meanwhile, least customers from blue-collar opted for insurance. But the insurance company called those categories the most.\n",
        "\n",
        "So, the insurance company have to make more calls on student, retired and unemployed rather than blue-collar."
      ]
    },
    {
      "cell_type": "code",
      "execution_count": null,
      "metadata": {
        "colab": {
          "base_uri": "https://localhost:8080/",
          "height": 489
        },
        "id": "PKXv7UeekXMo",
        "outputId": "9d40be90-29d4-4954-d238-3ab8e4e5bd54"
      },
      "outputs": [
        {
          "output_type": "execute_result",
          "data": {
            "text/plain": [
              "Text(0.5, 1.0, 'Distribution of marital status with respect to customers who opted for insurance')"
            ]
          },
          "metadata": {},
          "execution_count": 65
        },
        {
          "output_type": "display_data",
          "data": {
            "text/plain": [
              "<Figure size 640x480 with 1 Axes>"
            ],
            "image/png": "[encoded data removed]"
          },
          "metadata": {}
        }
      ],
      "source": [
        "df.groupby('marital')['y'].mean().sort_values().plot(kind='barh')\n",
        "plt.xlabel('Distribution of marital status with respect to target')\n",
        "plt.title('Distribution of marital status with respect to customers who opted for insurance')"
      ]
    },
    {
      "cell_type": "markdown",
      "metadata": {
        "id": "f_DuU00xmTgh"
      },
      "source": [
        "### Insights\n",
        "From the 'marital' v/s 'y' barplot, the most who are opting for insurance are single followed by divorced\n",
        "\n",
        "The least in this plot are married\n",
        "\n",
        "With respect to target variable, 'marital' column follows linearly increasing pattern. So, Label Encoding shall be done to this column\n",
        "\n",
        "### Suggestion to the company\n",
        "\n",
        "When comparing Distribution of the feature 'marital' and 'marital' v/s 'y' barplot, More number of customers from single and divorced are opting for insurance. But these types of customers were called lesser than married ones\n",
        "\n",
        "Meanwhile, least customers from married opted for insurance. But the insurance company called those people the most.\n",
        "\n",
        "So, the insurance company have to make more calls on single and divorced rather than married."
      ]
    },
    {
      "cell_type": "code",
      "execution_count": null,
      "metadata": {
        "colab": {
          "base_uri": "https://localhost:8080/",
          "height": 489
        },
        "id": "O5276KHikkx_",
        "outputId": "a510175f-dbf3-4b7e-8a60-de268c734778"
      },
      "outputs": [
        {
          "output_type": "execute_result",
          "data": {
            "text/plain": [
              "Text(0.5, 1.0, 'Distribution of education qualification with respect to customers who opted for insurance')"
            ]
          },
          "metadata": {},
          "execution_count": 66
        },
        {
          "output_type": "display_data",
          "data": {
            "text/plain": [
              "<Figure size 640x480 with 1 Axes>"
            ],
            "image/png": "[encoded data removed]"
          },
          "metadata": {}
        }
      ],
      "source": [
        "df.groupby('education_qual')['y'].mean().sort_values().plot(kind='barh')\n",
        "plt.xlabel('Distribution of education qualification with respect to target')\n",
        "plt.title('Distribution of education qualification with respect to customers who opted for insurance')"
      ]
    },
    {
      "cell_type": "markdown",
      "metadata": {
        "id": "W9X2wkDgoQLQ"
      },
      "source": [
        "### Insights\n",
        "From the 'education_qual' v/s 'y' barplot, the most who are opting for insurance are tertiary followed by secondary\n",
        "\n",
        "The least in this plot are primary\n",
        "\n",
        "With respect to target variable, 'education_qual' column follows linearly increasing pattern. So, Label Encoding shall be done to this column\n",
        "\n",
        "### Suggestion to the company\n",
        "\n",
        "When comparing Distribution of the feature 'education_qual' and 'education_qual' v/s 'y' barplot, More number of customers from tertiary than secondary are opting for insurance. But these types of customers were called lesser than the secondary category.\n",
        "\n",
        "So, the insurance company have to make more calls on tertiary rather than secondary."
      ]
    },
    {
      "cell_type": "code",
      "execution_count": null,
      "metadata": {
        "colab": {
          "base_uri": "https://localhost:8080/",
          "height": 489
        },
        "id": "ajGmQ8E4n2-J",
        "outputId": "fca20e56-0032-4f72-eb33-4e1bdfb03c9c"
      },
      "outputs": [
        {
          "output_type": "execute_result",
          "data": {
            "text/plain": [
              "Text(0.5, 1.0, 'Distribution of call type with respect to customers who opted for insurance')"
            ]
          },
          "metadata": {},
          "execution_count": 67
        },
        {
          "output_type": "display_data",
          "data": {
            "text/plain": [
              "<Figure size 640x480 with 1 Axes>"
            ],
            "image/png": "[encoded data removed]"
          },
          "metadata": {}
        }
      ],
      "source": [
        "df.groupby('call_type')['y'].mean().sort_values().plot(kind='barh')\n",
        "plt.xlabel('Distribution of call type with respect to target')\n",
        "plt.title('Distribution of call type with respect to customers who opted for insurance')"
      ]
    },
    {
      "cell_type": "markdown",
      "metadata": {
        "id": "tp1vHk140Vt8"
      },
      "source": [
        "### Insights\n",
        "From the 'call_type' v/s 'y' barplot, the most who are opting for insurance are cellular followed by telephone\n",
        "\n",
        "The least in this plot are unknown\n",
        "\n",
        "With respect to target variable, 'call_type' column follows linearly increasing pattern. So, Label Encoding shall be done to this column\n",
        "\n",
        "### Suggestion to the company\n",
        "\n",
        "When comparing Distribution of the feature 'call_type' and 'call_type' v/s 'y' barplot, More number of customers from telephone than unknown are opting for insurance. But these types of customers were called lesser than the unknown category.\n",
        "\n",
        "So, the insurance company have to make more calls on telephone rather than unknown."
      ]
    },
    {
      "cell_type": "code",
      "execution_count": null,
      "metadata": {
        "colab": {
          "base_uri": "https://localhost:8080/",
          "height": 489
        },
        "id": "fTu6AsKx0Bc4",
        "outputId": "da54f299-33e3-4b1c-92e3-69cf9bce9676"
      },
      "outputs": [
        {
          "output_type": "execute_result",
          "data": {
            "text/plain": [
              "Text(0.5, 1.0, 'Distribution of day of the month with respect to customers who opted for insurance')"
            ]
          },
          "metadata": {},
          "execution_count": 68
        },
        {
          "output_type": "display_data",
          "data": {
            "text/plain": [
              "<Figure size 640x480 with 1 Axes>"
            ],
            "image/png": "[encoded data removed]"
          },
          "metadata": {}
        }
      ],
      "source": [
        "df.groupby('day')['y'].mean().sort_values().plot(kind='barh')\n",
        "plt.xlabel('Distribution of day of the month with respect to target')\n",
        "plt.title('Distribution of day of the month with respect to customers who opted for insurance')"
      ]
    },
    {
      "cell_type": "markdown",
      "metadata": {
        "id": "N2-b5Fpf1Rgm"
      },
      "source": [
        "### Insights\n",
        "From the 'day' v/s 'y' barplot, the most who are opting for insurance were called on the dates 1st followed by 10th followed by 30th.\n",
        "\n",
        "The least who are opting for insurance were called on the dates 19th, 20th and 31st.\n",
        "\n",
        "### Suggestion to the company\n",
        "\n",
        "When comparing Distribution of the feature 'day' and 'day' v/s 'y' barplot, More number of customers opted for insurance on the dates 1st, 10th and 30th. But On those dates, less number of customers were called.\n",
        "\n",
        "Meanwhile, least customers have taken insurance on the dates 19th, 20th and 31st. But the insurance company called more number of people on those dates.\n",
        "\n",
        "So, the insurance company have to make more calls on start, mid and last day of the month to gain more customers from leads."
      ]
    },
    {
      "cell_type": "code",
      "execution_count": null,
      "metadata": {
        "colab": {
          "base_uri": "https://localhost:8080/",
          "height": 489
        },
        "id": "aYdgyLFo4HhQ",
        "outputId": "a802336c-68ed-4f0d-a575-7ca987918ea5"
      },
      "outputs": [
        {
          "output_type": "execute_result",
          "data": {
            "text/plain": [
              "Text(0.5, 1.0, 'Distribution of month with respect to customers who opted for insurance')"
            ]
          },
          "metadata": {},
          "execution_count": 69
        },
        {
          "output_type": "display_data",
          "data": {
            "text/plain": [
              "<Figure size 640x480 with 1 Axes>"
            ],
            "image/png": "[encoded data removed]"
          },
          "metadata": {}
        }
      ],
      "source": [
        "df.groupby('mon')['y'].mean().sort_values().plot(kind='barh')\n",
        "plt.xlabel('Distribution of month with respect to target')\n",
        "plt.title('Distribution of month with respect to customers who opted for insurance')"
      ]
    },
    {
      "cell_type": "markdown",
      "metadata": {
        "id": "Qwtd9Jti4nQn"
      },
      "source": [
        "### Insights\n",
        "From the 'mon' v/s 'y' barplot, the most who are opting for insurance were called on the months Mar followed by Dec followed by Sep\n",
        "\n",
        "The least who are opting for insurance were called on the months May, July and Jan\n",
        "\n",
        "With respect to target variable, 'mon' column follows linearly increasing pattern. So, Label Encoding shall be done to this column\n",
        "\n",
        "### Suggestion to the company\n",
        "\n",
        "When comparing Distribution of the feature 'mon' and 'mon' v/s 'y' barplot, More number of customers opted for insurance on the months Mar, Dec and Sept. But On those months, less number of customers were called.\n",
        "\n",
        "Meanwhile, least customers have taken insurance on the months May, July and Jan. But the insurance company called more number of people on those months.\n",
        "\n",
        "So, the insurance company have to make more calls on Mar, Dec and Sept rather than calling on the months May, July and Jan to gain more customers.\n",
        "\n"
      ]
    },
    {
      "cell_type": "code",
      "execution_count": null,
      "metadata": {
        "colab": {
          "base_uri": "https://localhost:8080/",
          "height": 489
        },
        "id": "YfDT6myr4Rpz",
        "outputId": "84ed0293-3d0e-411e-f1c2-dc34ac9d593f"
      },
      "outputs": [
        {
          "output_type": "execute_result",
          "data": {
            "text/plain": [
              "Text(0.5, 1.0, 'Distribution of prev_outcome with respect to customers who opted for insurance')"
            ]
          },
          "metadata": {},
          "execution_count": 70
        },
        {
          "output_type": "display_data",
          "data": {
            "text/plain": [
              "<Figure size 640x480 with 1 Axes>"
            ],
            "image/png": "[encoded data removed]"
          },
          "metadata": {}
        }
      ],
      "source": [
        "df.groupby('prev_outcome')['y'].mean().sort_values().plot(kind='barh')\n",
        "plt.xlabel('Distribution of prev_outcome with respect to target')\n",
        "plt.title('Distribution of prev_outcome with respect to customers who opted for insurance')"
      ]
    },
    {
      "cell_type": "markdown",
      "metadata": {
        "id": "N92PrfXz7C9b"
      },
      "source": [
        "### Insights\n",
        "From the 'prev_outcome' v/s 'y' barplot, the most who are opting for insurance are from the category success followed by other followed by failure.\n",
        "\n",
        "The least in this plot are unknown\n",
        "\n",
        "With respect to target variable, 'prev_outcome' column have linearly increasing pattern. So, Label Encoding shall be done to this column\n",
        "\n",
        "### Suggestion to the company\n",
        "\n",
        "When comparing Distribution of the feature 'prev_outcome' and 'prev_outcome' v/s 'y' barplot, More number of customers from success, other and failure category are opting for insurance. But these types of customers were called the least\n",
        "\n",
        "Meanwhile, least customers from unknown category opted for insurance. But the insurance company called them the most\n",
        "\n",
        "So, the insurance company should try to convert the previous outcome of the customers to success to gain more customers"
      ]
    },
    {
      "cell_type": "markdown",
      "metadata": {
        "id": "IUWPZokN-S_s"
      },
      "source": [
        "## Feature v/s Target Plot for Continuous Columns"
      ]
    },
    {
      "cell_type": "code",
      "execution_count": null,
      "metadata": {
        "colab": {
          "base_uri": "https://localhost:8080/",
          "height": 544
        },
        "id": "QdyY2n4Y-p4g",
        "outputId": "0fb95f4b-4602-4bb4-b360-9c33a926f9e8"
      },
      "outputs": [
        {
          "output_type": "stream",
          "name": "stderr",
          "text": [
            "/usr/local/lib/python3.10/dist-packages/seaborn/_decorators.py:36: FutureWarning: Pass the following variables as keyword args: x, y. From version 0.12, the only valid positional argument will be `data`, and passing other arguments without an explicit keyword will result in an error or misinterpretation.\n",
            "  warnings.warn(\n"
          ]
        },
        {
          "output_type": "execute_result",
          "data": {
            "text/plain": [
              "Text(0.5, 1.0, 'Age v/s Target Line Plot')"
            ]
          },
          "metadata": {},
          "execution_count": 71
        },
        {
          "output_type": "display_data",
          "data": {
            "text/plain": [
              "<Figure size 640x480 with 1 Axes>"
            ],
            "image/png": "[encoded data removed]"
          },
          "metadata": {}
        }
      ],
      "source": [
        "sns.lineplot(df['age'], df['y'])\n",
        "plt.title('Age v/s Target Line Plot')"
      ]
    },
    {
      "cell_type": "markdown",
      "metadata": {
        "id": "-ck-Or5OAFUv"
      },
      "source": [
        "### Insights\n",
        "From the 'age' v/s 'y' lineplot, the most who are opting for insurance are in the age of 18-25 and 60-70\n",
        "\n",
        "The least in this plot are of age 25-59\n",
        "\n",
        "With respect to target variable, 'age' column have varying patterns which are increasing as well as decreasing\n",
        "\n",
        "### Suggestion to the company\n",
        "\n",
        "When comparing Distribution of the feature 'age' and 'age' v/s 'y' line plot, More number of customers in the age of 18-25 and 60-70 are opting for insurance. But the customers of this age were called the least\n",
        "\n",
        "Meanwhile, least customers of age 25-59 opted for insurance. But the insurance company called them the most\n",
        "\n",
        "So, the insurance company need to concentrate more on youngsters and older people rather than calling middle aged people"
      ]
    },
    {
      "cell_type": "code",
      "execution_count": null,
      "metadata": {
        "colab": {
          "base_uri": "https://localhost:8080/",
          "height": 544
        },
        "id": "tS8aOuKSBzh4",
        "outputId": "a263b88e-fcf5-4a43-a598-a79b72b8d5a1"
      },
      "outputs": [
        {
          "output_type": "stream",
          "name": "stderr",
          "text": [
            "/usr/local/lib/python3.10/dist-packages/seaborn/_decorators.py:36: FutureWarning: Pass the following variables as keyword args: x, y. From version 0.12, the only valid positional argument will be `data`, and passing other arguments without an explicit keyword will result in an error or misinterpretation.\n",
            "  warnings.warn(\n"
          ]
        },
        {
          "output_type": "execute_result",
          "data": {
            "text/plain": [
              "Text(0.5, 1.0, 'Duration (in seconds) v/s Target Line Plot')"
            ]
          },
          "metadata": {},
          "execution_count": 72
        },
        {
          "output_type": "display_data",
          "data": {
            "text/plain": [
              "<Figure size 640x480 with 1 Axes>"
            ],
            "image/png": "[encoded data removed]"
          },
          "metadata": {}
        }
      ],
      "source": [
        "sns.lineplot(df['dur'], df['y'])\n",
        "plt.title('Duration (in seconds) v/s Target Line Plot')"
      ]
    },
    {
      "cell_type": "markdown",
      "metadata": {
        "id": "cupi0gdPCe_a"
      },
      "source": [
        "### Insights\n",
        "From the 'dur' v/s 'y' lineplot, the most who are opting for insurance lasted in call for longer duration from 450-640 seconds\n",
        "\n",
        "The least in this plot are of duration 0-200\n",
        "\n",
        "With respect to target variable, 'dur' column have clear linearly increasing relationship with the target\n",
        "\n",
        "### Suggestion to the company\n",
        "\n",
        "When comparing Distribution of the feature 'dur' and 'dur' v/s 'y' line plot, More number of customers who lasted in the call from 450-640 seconds are opting for insurance. But the number of calls in this duration are the least\n",
        "\n",
        "Meanwhile, minimal customers opted for insurance who lasted in the call from 0-200 seconds. But the insurance company made calls in this duration the most\n",
        "\n",
        "So, the insurance company employees have to try to talk for longer duration to customers so that most of the customers will take the insurance"
      ]
    },
    {
      "cell_type": "code",
      "execution_count": null,
      "metadata": {
        "colab": {
          "base_uri": "https://localhost:8080/",
          "height": 544
        },
        "id": "0B84EJTyEMkj",
        "outputId": "6143f656-6543-40a4-f094-512e9221e330"
      },
      "outputs": [
        {
          "output_type": "stream",
          "name": "stderr",
          "text": [
            "/usr/local/lib/python3.10/dist-packages/seaborn/_decorators.py:36: FutureWarning: Pass the following variables as keyword args: x, y. From version 0.12, the only valid positional argument will be `data`, and passing other arguments without an explicit keyword will result in an error or misinterpretation.\n",
            "  warnings.warn(\n"
          ]
        },
        {
          "output_type": "execute_result",
          "data": {
            "text/plain": [
              "Text(0.5, 1.0, 'Number of Calls v/s Target Line Plot')"
            ]
          },
          "metadata": {},
          "execution_count": 73
        },
        {
          "output_type": "display_data",
          "data": {
            "text/plain": [
              "<Figure size 640x480 with 1 Axes>"
            ],
            "image/png": "[encoded data removed]"
          },
          "metadata": {}
        }
      ],
      "source": [
        "sns.lineplot(df['num_calls'], df['y'])\n",
        "plt.title('Number of Calls v/s Target Line Plot')"
      ]
    },
    {
      "cell_type": "code",
      "execution_count": null,
      "metadata": {
        "id": "QK3JYDjgEmdk"
      },
      "outputs": [],
      "source": [
        "# Acc to the distribution of 'num_calls' feature, the highest number of calls made to a customer is in the range of 1 to 3\n",
        "# The median lies around 2 approximately"
      ]
    },
    {
      "cell_type": "markdown",
      "metadata": {
        "id": "tv0AV6tXFLgH"
      },
      "source": [
        "### Insights\n",
        "From the 'num_calls' v/s 'y' lineplot, the most who are opting for insurance have got the calls 1 to 3 times\n",
        "\n",
        "The least in this plot are 4 to 6 times\n",
        "\n",
        "With respect to target variable, 'dur' column have clear linearly decreasing relationship with the target\n",
        "\n",
        "### Suggestion to the company\n",
        "\n",
        "When comparing Distribution of the feature 'dur' and 'dur' v/s 'y' line plot, the most who are opting for insurance have got the calls 1 to 3 times. And the highest most number of calls made to a customer is 1 to 3 times\n",
        "\n",
        "So, the insurance company is in the right track with respect to num_calls column. It can continue in this same trend to gain more customers"
      ]
    },
    {
      "cell_type": "markdown",
      "metadata": {
        "id": "kQ9u7U41Ug9L"
      },
      "source": [
        "## Encoding Categorical Columns"
      ]
    },
    {
      "cell_type": "code",
      "execution_count": null,
      "metadata": {
        "id": "eQYJNkb2G2xq"
      },
      "outputs": [],
      "source": [
        "# Since all the categorical feature follow linearly increasing relationship with target (Refer Feature v/s Target Plot),\n",
        "# Label encoding is done since the feature is behaving ordinal with respect to target variable.\n",
        "\n",
        "df['job'] = df['job'].map({'blue-collar':0, 'entrepreneur':1, 'housemaid':2, 'services':3, 'technician':4, 'self-employed':5, 'admin.':6, 'management':7, 'unemployed':8, 'retired':9, 'student':10})\n",
        "df['marital'] = df['marital'].map({'married':0,'divorced':1,'single':2})\n",
        "df['education_qual'] = df['education_qual'].map({'primary':0,'secondary':1,'tertiary':2})\n",
        "df['call_type'] = df['call_type'].map({'unknown':0,'telephone':1,'cellular':2})\n",
        "df['mon'] = df['mon'].map({'may':0, 'jul':1,  'jan':2, 'nov':3, 'jun':4, 'aug':5, 'feb':6, 'apr':7, 'oct':8, 'sep':9, 'dec':10, 'mar':11})\n",
        "df['prev_outcome'] = df['prev_outcome'].map({'unknown':0,'failure':1,'other':2,'success':3})\n"
      ]
    },
    {
      "cell_type": "code",
      "execution_count": null,
      "metadata": {
        "colab": {
          "base_uri": "https://localhost:8080/",
          "height": 424
        },
        "id": "A0Q7JEp6ZmTU",
        "outputId": "cff21190-1a20-44e7-e07e-2c8f226c5e23"
      },
      "outputs": [
        {
          "output_type": "execute_result",
          "data": {
            "text/plain": [
              "       age  job  marital  education_qual  call_type  day  mon  dur  num_calls  \\\n",
              "0       58    7        0               2          0    5    0  261          1   \n",
              "1       44    4        2               1          0    5    0  151          1   \n",
              "2       33    1        0               1          0    5    0   76          1   \n",
              "3       47    0        0               1          0    5    0   92          1   \n",
              "4       33    0        2               1          0    5    0  198          1   \n",
              "...    ...  ...      ...             ...        ...  ...  ...  ...        ...   \n",
              "45206   51    4        0               2          2   17    3  643          3   \n",
              "45207   70    9        1               0          2   17    3  456          2   \n",
              "45208   70    9        0               1          2   17    3  643          5   \n",
              "45209   57    0        0               1          1   17    3  508          4   \n",
              "45210   37    1        0               1          2   17    3  361          2   \n",
              "\n",
              "       prev_outcome  y  \n",
              "0                 0  0  \n",
              "1                 0  0  \n",
              "2                 0  0  \n",
              "3                 0  0  \n",
              "4                 0  0  \n",
              "...             ... ..  \n",
              "45206             0  1  \n",
              "45207             0  1  \n",
              "45208             3  1  \n",
              "45209             0  0  \n",
              "45210             2  0  \n",
              "\n",
              "[45194 rows x 11 columns]"
            ],
            "text/html": [
              "\n",
              "  <div id=\"df-30df31fb-826e-40d8-8bc9-21f84853f201\">\n",
              "    <div class=\"colab-df-container\">\n",
              "      <div>\n",
              "<style scoped>\n",
              "    .dataframe tbody tr th:only-of-type {\n",
              "        vertical-align: middle;\n",
              "    }\n",
              "\n",
              "    .dataframe tbody tr th {\n",
              "        vertical-align: top;\n",
              "    }\n",
              "\n",
              "    .dataframe thead th {\n",
              "        text-align: right;\n",
              "    }\n",
              "</style>\n",
              "<table border=\"1\" class=\"dataframe\">\n",
              "  <thead>\n",
              "    <tr style=\"text-align: right;\">\n",
              "      <th></th>\n",
              "      <th>age</th>\n",
              "      <th>job</th>\n",
              "      <th>marital</th>\n",
              "      <th>education_qual</th>\n",
              "      <th>call_type</th>\n",
              "      <th>day</th>\n",
              "      <th>mon</th>\n",
              "      <th>dur</th>\n",
              "      <th>num_calls</th>\n",
              "      <th>prev_outcome</th>\n",
              "      <th>y</th>\n",
              "    </tr>\n",
              "  </thead>\n",
              "  <tbody>\n",
              "    <tr>\n",
              "      <th>0</th>\n",
              "      <td>58</td>\n",
              "      <td>7</td>\n",
              "      <td>0</td>\n",
              "      <td>2</td>\n",
              "      <td>0</td>\n",
              "      <td>5</td>\n",
              "      <td>0</td>\n",
              "      <td>261</td>\n",
              "      <td>1</td>\n",
              "      <td>0</td>\n",
              "      <td>0</td>\n",
              "    </tr>\n",
              "    <tr>\n",
              "      <th>1</th>\n",
              "      <td>44</td>\n",
              "      <td>4</td>\n",
              "      <td>2</td>\n",
              "      <td>1</td>\n",
              "      <td>0</td>\n",
              "      <td>5</td>\n",
              "      <td>0</td>\n",
              "      <td>151</td>\n",
              "      <td>1</td>\n",
              "      <td>0</td>\n",
              "      <td>0</td>\n",
              "    </tr>\n",
              "    <tr>\n",
              "      <th>2</th>\n",
              "      <td>33</td>\n",
              "      <td>1</td>\n",
              "      <td>0</td>\n",
              "      <td>1</td>\n",
              "      <td>0</td>\n",
              "      <td>5</td>\n",
              "      <td>0</td>\n",
              "      <td>76</td>\n",
              "      <td>1</td>\n",
              "      <td>0</td>\n",
              "      <td>0</td>\n",
              "    </tr>\n",
              "    <tr>\n",
              "      <th>3</th>\n",
              "      <td>47</td>\n",
              "      <td>0</td>\n",
              "      <td>0</td>\n",
              "      <td>1</td>\n",
              "      <td>0</td>\n",
              "      <td>5</td>\n",
              "      <td>0</td>\n",
              "      <td>92</td>\n",
              "      <td>1</td>\n",
              "      <td>0</td>\n",
              "      <td>0</td>\n",
              "    </tr>\n",
              "    <tr>\n",
              "      <th>4</th>\n",
              "      <td>33</td>\n",
              "      <td>0</td>\n",
              "      <td>2</td>\n",
              "      <td>1</td>\n",
              "      <td>0</td>\n",
              "      <td>5</td>\n",
              "      <td>0</td>\n",
              "      <td>198</td>\n",
              "      <td>1</td>\n",
              "      <td>0</td>\n",
              "      <td>0</td>\n",
              "    </tr>\n",
              "    <tr>\n",
              "      <th>...</th>\n",
              "      <td>...</td>\n",
              "      <td>...</td>\n",
              "      <td>...</td>\n",
              "      <td>...</td>\n",
              "      <td>...</td>\n",
              "      <td>...</td>\n",
              "      <td>...</td>\n",
              "      <td>...</td>\n",
              "      <td>...</td>\n",
              "      <td>...</td>\n",
              "      <td>...</td>\n",
              "    </tr>\n",
              "    <tr>\n",
              "      <th>45206</th>\n",
              "      <td>51</td>\n",
              "      <td>4</td>\n",
              "      <td>0</td>\n",
              "      <td>2</td>\n",
              "      <td>2</td>\n",
              "      <td>17</td>\n",
              "      <td>3</td>\n",
              "      <td>643</td>\n",
              "      <td>3</td>\n",
              "      <td>0</td>\n",
              "      <td>1</td>\n",
              "    </tr>\n",
              "    <tr>\n",
              "      <th>45207</th>\n",
              "      <td>70</td>\n",
              "      <td>9</td>\n",
              "      <td>1</td>\n",
              "      <td>0</td>\n",
              "      <td>2</td>\n",
              "      <td>17</td>\n",
              "      <td>3</td>\n",
              "      <td>456</td>\n",
              "      <td>2</td>\n",
              "      <td>0</td>\n",
              "      <td>1</td>\n",
              "    </tr>\n",
              "    <tr>\n",
              "      <th>45208</th>\n",
              "      <td>70</td>\n",
              "      <td>9</td>\n",
              "      <td>0</td>\n",
              "      <td>1</td>\n",
              "      <td>2</td>\n",
              "      <td>17</td>\n",
              "      <td>3</td>\n",
              "      <td>643</td>\n",
              "      <td>5</td>\n",
              "      <td>3</td>\n",
              "      <td>1</td>\n",
              "    </tr>\n",
              "    <tr>\n",
              "      <th>45209</th>\n",
              "      <td>57</td>\n",
              "      <td>0</td>\n",
              "      <td>0</td>\n",
              "      <td>1</td>\n",
              "      <td>1</td>\n",
              "      <td>17</td>\n",
              "      <td>3</td>\n",
              "      <td>508</td>\n",
              "      <td>4</td>\n",
              "      <td>0</td>\n",
              "      <td>0</td>\n",
              "    </tr>\n",
              "    <tr>\n",
              "      <th>45210</th>\n",
              "      <td>37</td>\n",
              "      <td>1</td>\n",
              "      <td>0</td>\n",
              "      <td>1</td>\n",
              "      <td>2</td>\n",
              "      <td>17</td>\n",
              "      <td>3</td>\n",
              "      <td>361</td>\n",
              "      <td>2</td>\n",
              "      <td>2</td>\n",
              "      <td>0</td>\n",
              "    </tr>\n",
              "  </tbody>\n",
              "</table>\n",
              "<p>45194 rows × 11 columns</p>\n",
              "</div>\n",
              "      <button class=\"colab-df-convert\" onclick=\"convertToInteractive('df-30df31fb-826e-40d8-8bc9-21f84853f201')\"\n",
              "              title=\"Convert this dataframe to an interactive table.\"\n",
              "              style=\"display:none;\">\n",
              "        \n",
              "  <svg xmlns=\"http://www.w3.org/2000/svg\" height=\"24px\"viewBox=\"0 0 24 24\"\n",
              "       width=\"24px\">\n",
              "    <path d=\"M0 0h24v24H0V0z\" fill=\"none\"/>\n",
              "    <path d=\"M18.56 5.44l.94 2.06.94-2.06 2.06-.94-2.06-.94-.94-2.06-.94 2.06-2.06.94zm-11 1L8.5 8.5l.94-2.06 2.06-.94-2.06-.94L8.5 2.5l-.94 2.06-2.06.94zm10 10l.94 2.06.94-2.06 2.06-.94-2.06-.94-.94-2.06-.94 2.06-2.06.94z\"/><path d=\"M17.41 7.96l-1.37-1.37c-.4-.4-.92-.59-1.43-.59-.52 0-1.04.2-1.43.59L10.3 9.45l-7.72 7.72c-.78.78-.78 2.05 0 2.83L4 21.41c.39.39.9.59 1.41.59.51 0 1.02-.2 1.41-.59l7.78-7.78 2.81-2.81c.8-.78.8-2.07 0-2.86zM5.41 20L4 18.59l7.72-7.72 1.47 1.35L5.41 20z\"/>\n",
              "  </svg>\n",
              "      </button>\n",
              "      \n",
              "  <style>\n",
              "    .colab-df-container {\n",
              "      display:flex;\n",
              "      flex-wrap:wrap;\n",
              "      gap: 12px;\n",
              "    }\n",
              "\n",
              "    .colab-df-convert {\n",
              "      background-color: #E8F0FE;\n",
              "      border: none;\n",
              "      border-radius: 50%;\n",
              "      cursor: pointer;\n",
              "      display: none;\n",
              "      fill: #1967D2;\n",
              "      height: 32px;\n",
              "      padding: 0 0 0 0;\n",
              "      width: 32px;\n",
              "    }\n",
              "\n",
              "    .colab-df-convert:hover {\n",
              "      background-color: #E2EBFA;\n",
              "      box-shadow: 0px 1px 2px rgba(60, 64, 67, 0.3), 0px 1px 3px 1px rgba(60, 64, 67, 0.15);\n",
              "      fill: #174EA6;\n",
              "    }\n",
              "\n",
              "    [theme=dark] .colab-df-convert {\n",
              "      background-color: #3B4455;\n",
              "      fill: #D2E3FC;\n",
              "    }\n",
              "\n",
              "    [theme=dark] .colab-df-convert:hover {\n",
              "      background-color: #434B5C;\n",
              "      box-shadow: 0px 1px 3px 1px rgba(0, 0, 0, 0.15);\n",
              "      filter: drop-shadow(0px 1px 2px rgba(0, 0, 0, 0.3));\n",
              "      fill: #FFFFFF;\n",
              "    }\n",
              "  </style>\n",
              "\n",
              "      <script>\n",
              "        const buttonEl =\n",
              "          document.querySelector('#df-30df31fb-826e-40d8-8bc9-21f84853f201 button.colab-df-convert');\n",
              "        buttonEl.style.display =\n",
              "          google.colab.kernel.accessAllowed ? 'block' : 'none';\n",
              "\n",
              "        async function convertToInteractive(key) {\n",
              "          const element = document.querySelector('#df-30df31fb-826e-40d8-8bc9-21f84853f201');\n",
              "          const dataTable =\n",
              "            await google.colab.kernel.invokeFunction('convertToInteractive',\n",
              "                                                     [key], {});\n",
              "          if (!dataTable) return;\n",
              "\n",
              "          const docLinkHtml = 'Like what you see? Visit the ' +\n",
              "            '<a target=\"_blank\" href=https://colab.research.google.com/notebooks/data_table.ipynb>data table notebook</a>'\n",
              "            + ' to learn more about interactive tables.';\n",
              "          element.innerHTML = '';\n",
              "          dataTable['output_type'] = 'display_data';\n",
              "          await google.colab.output.renderOutput(dataTable, element);\n",
              "          const docLink = document.createElement('div');\n",
              "          docLink.innerHTML = docLinkHtml;\n",
              "          element.appendChild(docLink);\n",
              "        }\n",
              "      </script>\n",
              "    </div>\n",
              "  </div>\n",
              "  "
            ]
          },
          "metadata": {},
          "execution_count": 76
        }
      ],
      "source": [
        "df"
      ]
    },
    {
      "cell_type": "markdown",
      "metadata": {
        "id": "ZUdHJkQzoHZ7"
      },
      "source": [
        "## Splitting the Data"
      ]
    },
    {
      "cell_type": "code",
      "execution_count": null,
      "metadata": {
        "id": "GiLPXSz6mNoj"
      },
      "outputs": [],
      "source": [
        "x = df.drop('y', axis=1)\n",
        "y = df['y']"
      ]
    },
    {
      "cell_type": "code",
      "execution_count": null,
      "metadata": {
        "id": "Q3IAAg7Ip9XG"
      },
      "outputs": [],
      "source": [
        "from sklearn.model_selection import train_test_split\n",
        "x_tr, x_te, y_tr, y_te = train_test_split(x,y,test_size=0.25,random_state=1)"
      ]
    },
    {
      "cell_type": "code",
      "execution_count": null,
      "metadata": {
        "colab": {
          "base_uri": "https://localhost:8080/"
        },
        "id": "B9jLUqO8p-pE",
        "outputId": "45a8e366-313a-45e6-94bb-d586ec896c29"
      },
      "outputs": [
        {
          "output_type": "execute_result",
          "data": {
            "text/plain": [
              "((33895, 10), (11299, 10), (33895,), (11299,))"
            ]
          },
          "metadata": {},
          "execution_count": 79
        }
      ],
      "source": [
        "x_tr.shape, x_te.shape, y_tr.shape, y_te.shape"
      ]
    },
    {
      "cell_type": "markdown",
      "metadata": {
        "id": "qHo-nBXHrnLW"
      },
      "source": [
        "## Balancing the Data"
      ]
    },
    {
      "cell_type": "code",
      "execution_count": null,
      "metadata": {
        "colab": {
          "base_uri": "https://localhost:8080/"
        },
        "id": "hcLycJ_EqZ1R",
        "outputId": "f5107c7f-5b5b-4388-8ef6-1649ced0a068"
      },
      "outputs": [
        {
          "output_type": "stream",
          "name": "stdout",
          "text": [
            "Collecting imblearn\n",
            "  Downloading imblearn-0.0-py2.py3-none-any.whl (1.9 kB)\n",
            "Requirement already satisfied: imbalanced-learn in /usr/local/lib/python3.10/dist-packages (from imblearn) (0.10.1)\n",
            "Requirement already satisfied: numpy>=1.17.3 in /usr/local/lib/python3.10/dist-packages (from imbalanced-learn->imblearn) (1.22.4)\n",
            "Requirement already satisfied: scipy>=1.3.2 in /usr/local/lib/python3.10/dist-packages (from imbalanced-learn->imblearn) (1.10.1)\n",
            "Requirement already satisfied: scikit-learn>=1.0.2 in /usr/local/lib/python3.10/dist-packages (from imbalanced-learn->imblearn) (1.2.2)\n",
            "Requirement already satisfied: joblib>=1.1.1 in /usr/local/lib/python3.10/dist-packages (from imbalanced-learn->imblearn) (1.2.0)\n",
            "Requirement already satisfied: threadpoolctl>=2.0.0 in /usr/local/lib/python3.10/dist-packages (from imbalanced-learn->imblearn) (3.1.0)\n",
            "Installing collected packages: imblearn\n",
            "Successfully installed imblearn-0.0\n"
          ]
        }
      ],
      "source": [
        "!pip install imblearn"
      ]
    },
    {
      "cell_type": "code",
      "execution_count": null,
      "metadata": {
        "id": "Qn4aaw0wrw4d"
      },
      "outputs": [],
      "source": [
        "import imblearn"
      ]
    },
    {
      "cell_type": "code",
      "execution_count": null,
      "metadata": {
        "id": "wpXNZ9MOtEBR"
      },
      "outputs": [],
      "source": [
        "from imblearn.combine import SMOTEENN\n",
        "smt = SMOTEENN(sampling_strategy='all')\n",
        "x_smt_tr,y_smt_tr = smt.fit_resample(x_tr,y_tr)"
      ]
    },
    {
      "cell_type": "markdown",
      "metadata": {
        "id": "1agoEuniE_It"
      },
      "source": [
        "## Fit ML Models"
      ]
    },
    {
      "cell_type": "markdown",
      "metadata": {
        "id": "-nJ9nY18FF0r"
      },
      "source": [
        "#### Logistic Regression"
      ]
    },
    {
      "cell_type": "code",
      "execution_count": null,
      "metadata": {
        "id": "sy0um5VBE2wC"
      },
      "outputs": [],
      "source": [
        "from sklearn.linear_model import LogisticRegression\n",
        "log_model = LogisticRegression(max_iter=1000)\n",
        "log_model.fit(x_smt_tr,y_smt_tr)\n",
        "y_pred_log = log_model.predict(x_te)"
      ]
    },
    {
      "cell_type": "code",
      "source": [
        "from sklearn.model_selection import cross_val_score\n",
        "cross_val_log = cross_val_score(log_model, x_tr, y_tr, cv=10).mean()\n",
        "cross_val_log"
      ],
      "metadata": {
        "colab": {
          "base_uri": "https://localhost:8080/"
        },
        "id": "pd51SSMA3wd4",
        "outputId": "e23dcf85-641b-4d19-d07f-ce3f9a535206"
      },
      "execution_count": null,
      "outputs": [
        {
          "output_type": "execute_result",
          "data": {
            "text/plain": [
              "0.8924028372201928"
            ]
          },
          "metadata": {},
          "execution_count": 122
        }
      ]
    },
    {
      "cell_type": "code",
      "source": [
        "from sklearn.metrics import roc_auc_score\n",
        "auroc_log = round(roc_auc_score(y_te, log_model.predict_proba(x_te)[:,1]),2)\n",
        "auroc_log"
      ],
      "metadata": {
        "colab": {
          "base_uri": "https://localhost:8080/"
        },
        "id": "aKx10hJw_bN9",
        "outputId": "198ba48d-13fe-4374-d6dd-746967fa1d50"
      },
      "execution_count": null,
      "outputs": [
        {
          "output_type": "execute_result",
          "data": {
            "text/plain": [
              "0.88"
            ]
          },
          "metadata": {},
          "execution_count": 125
        }
      ]
    },
    {
      "cell_type": "code",
      "source": [
        "from sklearn.metrics import confusion_matrix\n",
        "confusion_matrix(y_te,y_pred_log)"
      ],
      "metadata": {
        "colab": {
          "base_uri": "https://localhost:8080/"
        },
        "id": "ii51I0LPajvn",
        "outputId": "05e112b2-7f72-46cb-bc83-da14c89f159c"
      },
      "execution_count": null,
      "outputs": [
        {
          "output_type": "execute_result",
          "data": {
            "text/plain": [
              "array([[7407, 2623],\n",
              "       [ 160, 1109]])"
            ]
          },
          "metadata": {},
          "execution_count": 85
        }
      ]
    },
    {
      "cell_type": "code",
      "execution_count": null,
      "metadata": {
        "id": "FB-Mkwl4E403"
      },
      "outputs": [],
      "source": [
        "# Interpretations\n",
        "# 0.88 is the AUROC score for Logistic Regression model. This is a good fit model with a descent AUROC score"
      ]
    },
    {
      "cell_type": "markdown",
      "metadata": {
        "id": "DR3i5rOcEpem"
      },
      "source": [
        "#### KNN ALGORITHM"
      ]
    },
    {
      "cell_type": "code",
      "execution_count": null,
      "metadata": {
        "colab": {
          "base_uri": "https://localhost:8080/"
        },
        "id": "6r2KEETaEkux",
        "outputId": "c3d07511-4b6f-4de3-ae2f-2ec18093cb33"
      },
      "outputs": [
        {
          "output_type": "stream",
          "name": "stdout",
          "text": [
            "K value:  1 cross_val_score:  0.859683994112481\n",
            "K value:  2 cross_val_score:  0.8814868684125546\n",
            "K value:  3 cross_val_score:  0.8797461333778989\n",
            "K value:  4 cross_val_score:  0.8846436806221064\n",
            "K value:  5 cross_val_score:  0.8833161077266289\n",
            "K value:  6 cross_val_score:  0.8842896983212214\n",
            "K value:  7 cross_val_score:  0.8841717738545058\n",
            "K value:  8 cross_val_score:  0.8846732661891543\n",
            "K value:  9 cross_val_score:  0.8836112583571175\n",
            "K value:  10 cross_val_score:  0.8843782026006402\n",
            "K value:  11 cross_val_score:  0.8839948001124582\n",
            "K value:  12 cross_val_score:  0.8856175062300293\n",
            "K value:  13 cross_val_score:  0.8846143039557965\n",
            "K value:  14 cross_val_score:  0.8858238218215971\n",
            "K value:  15 cross_val_score:  0.8854402887704538\n",
            "K value:  16 cross_val_score:  0.8858828449843369\n",
            "K value:  17 cross_val_score:  0.8854992858206014\n",
            "K value:  18 cross_val_score:  0.8862072765349636\n",
            "K value:  19 cross_val_score:  0.8860006562964859\n",
            "K value:  20 cross_val_score:  0.8863548562023065\n"
          ]
        }
      ],
      "source": [
        "from sklearn.neighbors import KNeighborsClassifier\n",
        "from sklearn.model_selection import cross_val_score\n",
        "\n",
        "k_values = np.arange(1,21)\n",
        "cross_val_knn_list = []\n",
        "\n",
        "for k in k_values:\n",
        "  knn_model = KNeighborsClassifier(n_neighbors=k)\n",
        "  knn_model.fit(x_smt_tr,y_smt_tr)\n",
        "  print('K value: ', k, 'cross_val_score: ', cross_val_score(knn_model, x_tr,y_tr,cv=10).mean())\n",
        "  cross_val_knn_list.append(cross_val_score(knn_model, x_tr,y_tr,cv=10).mean())\n"
      ]
    },
    {
      "cell_type": "code",
      "source": [
        "from sklearn.neighbors import KNeighborsClassifier\n",
        "from sklearn.model_selection import cross_val_score\n",
        "\n",
        "k_values = np.arange(21,41)\n",
        "cross_val_knn = []\n",
        "\n",
        "for k in k_values:\n",
        "  knn_model = KNeighborsClassifier(n_neighbors=k)\n",
        "  knn_model.fit(x_smt_tr,y_smt_tr)\n",
        "  print('K value: ', k, 'cross_val_score: ', cross_val_score(knn_model, x_tr,y_tr,cv=10).mean())\n",
        "  cross_val_knn.append(cross_val_score(knn_model, x_tr,y_tr,cv=10).mean())"
      ],
      "metadata": {
        "colab": {
          "base_uri": "https://localhost:8080/"
        },
        "id": "EJi0S951IgWC",
        "outputId": "201025a4-3175-49ee-e04a-fc57a9be8c9b"
      },
      "execution_count": null,
      "outputs": [
        {
          "output_type": "stream",
          "name": "stdout",
          "text": [
            "K value:  21 cross_val_score:  0.8854697872955276\n",
            "K value:  22 cross_val_score:  0.8856467001081931\n",
            "K value:  23 cross_val_score:  0.8855876160160715\n",
            "K value:  24 cross_val_score:  0.8855581348993926\n",
            "K value:  25 cross_val_score:  0.8860006824090781\n",
            "K value:  26 cross_val_score:  0.8862662300641236\n",
            "K value:  27 cross_val_score:  0.8859417549925099\n",
            "K value:  28 cross_val_score:  0.8862367924684321\n",
            "K value:  29 cross_val_score:  0.8857350738246504\n",
            "K value:  30 cross_val_score:  0.8863251922974815\n",
            "K value:  31 cross_val_score:  0.886266169134742\n",
            "K value:  32 cross_val_score:  0.8862956850682104\n",
            "K value:  33 cross_val_score:  0.8863546473015683\n",
            "K value:  34 cross_val_score:  0.8862956937724078\n",
            "K value:  35 cross_val_score:  0.8862071894929893\n",
            "K value:  36 cross_val_score:  0.8856171319495401\n",
            "K value:  37 cross_val_score:  0.8860006911132757\n",
            "K value:  38 cross_val_score:  0.8859417027673256\n",
            "K value:  39 cross_val_score:  0.8861187635513474\n",
            "K value:  40 cross_val_score:  0.8859712709259787\n"
          ]
        }
      ]
    },
    {
      "cell_type": "code",
      "execution_count": null,
      "metadata": {
        "id": "0QKujvxUG5yI",
        "colab": {
          "base_uri": "https://localhost:8080/"
        },
        "outputId": "a032240a-2abe-4f87-9557-b6841ef2bf6c"
      },
      "outputs": [
        {
          "output_type": "execute_result",
          "data": {
            "text/plain": [
              "0.8863546473015683"
            ]
          },
          "metadata": {},
          "execution_count": 97
        }
      ],
      "source": [
        "cross_val_knn_max = max(cross_val_knn)\n",
        "cross_val_knn_max"
      ]
    },
    {
      "cell_type": "code",
      "execution_count": null,
      "metadata": {
        "colab": {
          "base_uri": "https://localhost:8080/"
        },
        "id": "NrqAc01QMVLd",
        "outputId": "c032af86-68d1-49c1-9d2c-4a343748cd76"
      },
      "outputs": [
        {
          "output_type": "stream",
          "name": "stdout",
          "text": [
            "The best value of k is 33 and cross val score is  0.8863546473015683\n"
          ]
        }
      ],
      "source": [
        "print('The best value of k is 33 and cross val score is ', cross_val_knn_max)"
      ]
    },
    {
      "cell_type": "code",
      "execution_count": null,
      "metadata": {
        "id": "qG_YrpDCM-DM",
        "colab": {
          "base_uri": "https://localhost:8080/",
          "height": 75
        },
        "outputId": "c676e171-860c-4f44-c7f3-4def5e64d0ea"
      },
      "outputs": [
        {
          "output_type": "execute_result",
          "data": {
            "text/plain": [
              "KNeighborsClassifier(n_neighbors=33)"
            ],
            "text/html": [
              "<style>#sk-container-id-1 {color: black;background-color: white;}#sk-container-id-1 pre{padding: 0;}#sk-container-id-1 div.sk-toggleable {background-color: white;}#sk-container-id-1 label.sk-toggleable__label {cursor: pointer;display: block;width: 100%;margin-bottom: 0;padding: 0.3em;box-sizing: border-box;text-align: center;}#sk-container-id-1 label.sk-toggleable__label-arrow:before {content: \"▸\";float: left;margin-right: 0.25em;color: #696969;}#sk-container-id-1 label.sk-toggleable__label-arrow:hover:before {color: black;}#sk-container-id-1 div.sk-estimator:hover label.sk-toggleable__label-arrow:before {color: black;}#sk-container-id-1 div.sk-toggleable__content {max-height: 0;max-width: 0;overflow: hidden;text-align: left;background-color: #f0f8ff;}#sk-container-id-1 div.sk-toggleable__content pre {margin: 0.2em;color: black;border-radius: 0.25em;background-color: #f0f8ff;}#sk-container-id-1 input.sk-toggleable__control:checked~div.sk-toggleable__content {max-height: 200px;max-width: 100%;overflow: auto;}#sk-container-id-1 input.sk-toggleable__control:checked~label.sk-toggleable__label-arrow:before {content: \"▾\";}#sk-container-id-1 div.sk-estimator input.sk-toggleable__control:checked~label.sk-toggleable__label {background-color: #d4ebff;}#sk-container-id-1 div.sk-label input.sk-toggleable__control:checked~label.sk-toggleable__label {background-color: #d4ebff;}#sk-container-id-1 input.sk-hidden--visually {border: 0;clip: rect(1px 1px 1px 1px);clip: rect(1px, 1px, 1px, 1px);height: 1px;margin: -1px;overflow: hidden;padding: 0;position: absolute;width: 1px;}#sk-container-id-1 div.sk-estimator {font-family: monospace;background-color: #f0f8ff;border: 1px dotted black;border-radius: 0.25em;box-sizing: border-box;margin-bottom: 0.5em;}#sk-container-id-1 div.sk-estimator:hover {background-color: #d4ebff;}#sk-container-id-1 div.sk-parallel-item::after {content: \"\";width: 100%;border-bottom: 1px solid gray;flex-grow: 1;}#sk-container-id-1 div.sk-label:hover label.sk-toggleable__label {background-color: #d4ebff;}#sk-container-id-1 div.sk-serial::before {content: \"\";position: absolute;border-left: 1px solid gray;box-sizing: border-box;top: 0;bottom: 0;left: 50%;z-index: 0;}#sk-container-id-1 div.sk-serial {display: flex;flex-direction: column;align-items: center;background-color: white;padding-right: 0.2em;padding-left: 0.2em;position: relative;}#sk-container-id-1 div.sk-item {position: relative;z-index: 1;}#sk-container-id-1 div.sk-parallel {display: flex;align-items: stretch;justify-content: center;background-color: white;position: relative;}#sk-container-id-1 div.sk-item::before, #sk-container-id-1 div.sk-parallel-item::before {content: \"\";position: absolute;border-left: 1px solid gray;box-sizing: border-box;top: 0;bottom: 0;left: 50%;z-index: -1;}#sk-container-id-1 div.sk-parallel-item {display: flex;flex-direction: column;z-index: 1;position: relative;background-color: white;}#sk-container-id-1 div.sk-parallel-item:first-child::after {align-self: flex-end;width: 50%;}#sk-container-id-1 div.sk-parallel-item:last-child::after {align-self: flex-start;width: 50%;}#sk-container-id-1 div.sk-parallel-item:only-child::after {width: 0;}#sk-container-id-1 div.sk-dashed-wrapped {border: 1px dashed gray;margin: 0 0.4em 0.5em 0.4em;box-sizing: border-box;padding-bottom: 0.4em;background-color: white;}#sk-container-id-1 div.sk-label label {font-family: monospace;font-weight: bold;display: inline-block;line-height: 1.2em;}#sk-container-id-1 div.sk-label-container {text-align: center;}#sk-container-id-1 div.sk-container {/* jupyter's `normalize.less` sets `[hidden] { display: none; }` but bootstrap.min.css set `[hidden] { display: none !important; }` so we also need the `!important` here to be able to override the default hidden behavior on the sphinx rendered scikit-learn.org. See: https://github.com/scikit-learn/scikit-learn/issues/21755 */display: inline-block !important;position: relative;}#sk-container-id-1 div.sk-text-repr-fallback {display: none;}</style><div id=\"sk-container-id-1\" class=\"sk-top-container\"><div class=\"sk-text-repr-fallback\"><pre>KNeighborsClassifier(n_neighbors=33)</pre><b>In a Jupyter environment, please rerun this cell to show the HTML representation or trust the notebook. <br />On GitHub, the HTML representation is unable to render, please try loading this page with nbviewer.org.</b></div><div class=\"sk-container\" hidden><div class=\"sk-item\"><div class=\"sk-estimator sk-toggleable\"><input class=\"sk-toggleable__control sk-hidden--visually\" id=\"sk-estimator-id-1\" type=\"checkbox\" checked><label for=\"sk-estimator-id-1\" class=\"sk-toggleable__label sk-toggleable__label-arrow\">KNeighborsClassifier</label><div class=\"sk-toggleable__content\"><pre>KNeighborsClassifier(n_neighbors=33)</pre></div></div></div></div></div>"
            ]
          },
          "metadata": {},
          "execution_count": 88
        }
      ],
      "source": [
        "# building knn model with best value of k\n",
        "from sklearn.neighbors import KNeighborsClassifier\n",
        "from sklearn.model_selection import cross_val_score\n",
        "knn_model = KNeighborsClassifier(n_neighbors=33)\n",
        "knn_model.fit(x_smt_tr,y_smt_tr)"
      ]
    },
    {
      "cell_type": "code",
      "execution_count": null,
      "metadata": {
        "id": "PvOO7avHNSvz",
        "colab": {
          "base_uri": "https://localhost:8080/"
        },
        "outputId": "7fbc669d-8250-419b-87d9-7e55a9134535"
      },
      "outputs": [
        {
          "output_type": "execute_result",
          "data": {
            "text/plain": [
              "0.8863546473015683"
            ]
          },
          "metadata": {},
          "execution_count": 89
        }
      ],
      "source": [
        "cross_val_score_knn_best = cross_val_score(knn_model, x_tr,y_tr,cv=10).mean()\n",
        "cross_val_score_knn_best"
      ]
    },
    {
      "cell_type": "code",
      "source": [
        "auroc_knn = round(roc_auc_score(y_te, knn_model.predict_proba(x_te)[:,1]),2)\n",
        "auroc_knn"
      ],
      "metadata": {
        "colab": {
          "base_uri": "https://localhost:8080/"
        },
        "id": "EMFGs7yOTHVE",
        "outputId": "d9a84b82-91e6-49c8-9e83-ff81949c32ba"
      },
      "execution_count": null,
      "outputs": [
        {
          "output_type": "execute_result",
          "data": {
            "text/plain": [
              "0.84"
            ]
          },
          "metadata": {},
          "execution_count": 127
        }
      ]
    },
    {
      "cell_type": "code",
      "execution_count": null,
      "metadata": {
        "id": "SilpdWgLNfYO"
      },
      "outputs": [],
      "source": [
        "# Interpretation\n",
        "# 0.84 is the AUROC value of KNN model which is less than logistic regression model."
      ]
    },
    {
      "cell_type": "markdown",
      "metadata": {
        "id": "LuVRlnBeOyyD"
      },
      "source": [
        "#### Decision Tree"
      ]
    },
    {
      "cell_type": "code",
      "execution_count": null,
      "metadata": {
        "colab": {
          "base_uri": "https://localhost:8080/"
        },
        "id": "_wReZTBQOlip",
        "outputId": "b0cae220-32b4-4ad4-8e32-4f018865490b"
      },
      "outputs": [
        {
          "output_type": "stream",
          "name": "stdout",
          "text": [
            "Depth:  1 cross_val_score:  0.8814574482252577\n",
            "Depth:  5 cross_val_score:  0.9008406687957133\n",
            "Depth:  6 cross_val_score:  0.9003686401693489\n",
            "Depth:  7 cross_val_score:  0.899188411927884\n",
            "Depth:  8 cross_val_score:  0.8997783911335564\n",
            "Depth:  9 cross_val_score:  0.8992769423198951\n",
            "Depth:  10 cross_val_score:  0.8960903704593466\n",
            "Depth:  12 cross_val_score:  0.8927270685742785\n",
            "Depth:  15 cross_val_score:  0.8881541791898308\n"
          ]
        }
      ],
      "source": [
        "from sklearn.tree import DecisionTreeClassifier\n",
        "\n",
        "cross_val_dt_list = []\n",
        "\n",
        "for d in [1,5,6,7,8,9,10,12,15]:\n",
        "  dt_model = DecisionTreeClassifier(max_depth = d, random_state = 0)\n",
        "  dt_model.fit(x_smt_tr,y_smt_tr)\n",
        "  print('Depth: ', d, 'cross_val_score: ', cross_val_score(dt_model, x_tr, y_tr, cv=10).mean())\n",
        "  cross_val_dt_list.append(cross_val_score(dt_model, x_tr, y_tr, cv=10).mean())\n",
        "\n",
        "# depth = 5 is the best max_depth with high cross val score"
      ]
    },
    {
      "cell_type": "code",
      "execution_count": null,
      "metadata": {
        "id": "l6TFFYrnQRf4"
      },
      "outputs": [],
      "source": [
        "cross_val_dt_max = max(cross_val_dt_list)"
      ]
    },
    {
      "cell_type": "code",
      "execution_count": null,
      "metadata": {
        "colab": {
          "base_uri": "https://localhost:8080/"
        },
        "id": "L9lTOl8BTnDW",
        "outputId": "da8873b3-2f42-464e-b061-fe546481b901"
      },
      "outputs": [
        {
          "output_type": "stream",
          "name": "stdout",
          "text": [
            "The best depth is 5 and cross val score is  0.9008406687957133\n"
          ]
        }
      ],
      "source": [
        "print('The best depth is 5 and cross val score is ', cross_val_dt_max)"
      ]
    },
    {
      "cell_type": "code",
      "execution_count": null,
      "metadata": {
        "id": "XhOqK7OKTtZv",
        "colab": {
          "base_uri": "https://localhost:8080/",
          "height": 75
        },
        "outputId": "ce4192d1-fbb0-41d2-f32a-4d8fff0cb0f6"
      },
      "outputs": [
        {
          "output_type": "execute_result",
          "data": {
            "text/plain": [
              "DecisionTreeClassifier(max_depth=5, random_state=0)"
            ],
            "text/html": [
              "<style>#sk-container-id-2 {color: black;background-color: white;}#sk-container-id-2 pre{padding: 0;}#sk-container-id-2 div.sk-toggleable {background-color: white;}#sk-container-id-2 label.sk-toggleable__label {cursor: pointer;display: block;width: 100%;margin-bottom: 0;padding: 0.3em;box-sizing: border-box;text-align: center;}#sk-container-id-2 label.sk-toggleable__label-arrow:before {content: \"▸\";float: left;margin-right: 0.25em;color: #696969;}#sk-container-id-2 label.sk-toggleable__label-arrow:hover:before {color: black;}#sk-container-id-2 div.sk-estimator:hover label.sk-toggleable__label-arrow:before {color: black;}#sk-container-id-2 div.sk-toggleable__content {max-height: 0;max-width: 0;overflow: hidden;text-align: left;background-color: #f0f8ff;}#sk-container-id-2 div.sk-toggleable__content pre {margin: 0.2em;color: black;border-radius: 0.25em;background-color: #f0f8ff;}#sk-container-id-2 input.sk-toggleable__control:checked~div.sk-toggleable__content {max-height: 200px;max-width: 100%;overflow: auto;}#sk-container-id-2 input.sk-toggleable__control:checked~label.sk-toggleable__label-arrow:before {content: \"▾\";}#sk-container-id-2 div.sk-estimator input.sk-toggleable__control:checked~label.sk-toggleable__label {background-color: #d4ebff;}#sk-container-id-2 div.sk-label input.sk-toggleable__control:checked~label.sk-toggleable__label {background-color: #d4ebff;}#sk-container-id-2 input.sk-hidden--visually {border: 0;clip: rect(1px 1px 1px 1px);clip: rect(1px, 1px, 1px, 1px);height: 1px;margin: -1px;overflow: hidden;padding: 0;position: absolute;width: 1px;}#sk-container-id-2 div.sk-estimator {font-family: monospace;background-color: #f0f8ff;border: 1px dotted black;border-radius: 0.25em;box-sizing: border-box;margin-bottom: 0.5em;}#sk-container-id-2 div.sk-estimator:hover {background-color: #d4ebff;}#sk-container-id-2 div.sk-parallel-item::after {content: \"\";width: 100%;border-bottom: 1px solid gray;flex-grow: 1;}#sk-container-id-2 div.sk-label:hover label.sk-toggleable__label {background-color: #d4ebff;}#sk-container-id-2 div.sk-serial::before {content: \"\";position: absolute;border-left: 1px solid gray;box-sizing: border-box;top: 0;bottom: 0;left: 50%;z-index: 0;}#sk-container-id-2 div.sk-serial {display: flex;flex-direction: column;align-items: center;background-color: white;padding-right: 0.2em;padding-left: 0.2em;position: relative;}#sk-container-id-2 div.sk-item {position: relative;z-index: 1;}#sk-container-id-2 div.sk-parallel {display: flex;align-items: stretch;justify-content: center;background-color: white;position: relative;}#sk-container-id-2 div.sk-item::before, #sk-container-id-2 div.sk-parallel-item::before {content: \"\";position: absolute;border-left: 1px solid gray;box-sizing: border-box;top: 0;bottom: 0;left: 50%;z-index: -1;}#sk-container-id-2 div.sk-parallel-item {display: flex;flex-direction: column;z-index: 1;position: relative;background-color: white;}#sk-container-id-2 div.sk-parallel-item:first-child::after {align-self: flex-end;width: 50%;}#sk-container-id-2 div.sk-parallel-item:last-child::after {align-self: flex-start;width: 50%;}#sk-container-id-2 div.sk-parallel-item:only-child::after {width: 0;}#sk-container-id-2 div.sk-dashed-wrapped {border: 1px dashed gray;margin: 0 0.4em 0.5em 0.4em;box-sizing: border-box;padding-bottom: 0.4em;background-color: white;}#sk-container-id-2 div.sk-label label {font-family: monospace;font-weight: bold;display: inline-block;line-height: 1.2em;}#sk-container-id-2 div.sk-label-container {text-align: center;}#sk-container-id-2 div.sk-container {/* jupyter's `normalize.less` sets `[hidden] { display: none; }` but bootstrap.min.css set `[hidden] { display: none !important; }` so we also need the `!important` here to be able to override the default hidden behavior on the sphinx rendered scikit-learn.org. See: https://github.com/scikit-learn/scikit-learn/issues/21755 */display: inline-block !important;position: relative;}#sk-container-id-2 div.sk-text-repr-fallback {display: none;}</style><div id=\"sk-container-id-2\" class=\"sk-top-container\"><div class=\"sk-text-repr-fallback\"><pre>DecisionTreeClassifier(max_depth=5, random_state=0)</pre><b>In a Jupyter environment, please rerun this cell to show the HTML representation or trust the notebook. <br />On GitHub, the HTML representation is unable to render, please try loading this page with nbviewer.org.</b></div><div class=\"sk-container\" hidden><div class=\"sk-item\"><div class=\"sk-estimator sk-toggleable\"><input class=\"sk-toggleable__control sk-hidden--visually\" id=\"sk-estimator-id-2\" type=\"checkbox\" checked><label for=\"sk-estimator-id-2\" class=\"sk-toggleable__label sk-toggleable__label-arrow\">DecisionTreeClassifier</label><div class=\"sk-toggleable__content\"><pre>DecisionTreeClassifier(max_depth=5, random_state=0)</pre></div></div></div></div></div>"
            ]
          },
          "metadata": {},
          "execution_count": 92
        }
      ],
      "source": [
        "# Building decision tree model with best max_depth value\n",
        "from sklearn.tree import DecisionTreeClassifier\n",
        "dt_model = DecisionTreeClassifier(max_depth = 5, random_state = 0)\n",
        "dt_model.fit(x_smt_tr,y_smt_tr)"
      ]
    },
    {
      "cell_type": "code",
      "execution_count": null,
      "metadata": {
        "id": "4Wlf12DdT6g0",
        "colab": {
          "base_uri": "https://localhost:8080/"
        },
        "outputId": "e8aff84a-ec5b-4b33-d6e6-b6d6afbe4a3b"
      },
      "outputs": [
        {
          "output_type": "execute_result",
          "data": {
            "text/plain": [
              "0.9008406687957133"
            ]
          },
          "metadata": {},
          "execution_count": 93
        }
      ],
      "source": [
        "cross_val_dt_best = cross_val_score(dt_model, x_tr, y_tr, cv=10).mean()\n",
        "cross_val_dt_best"
      ]
    },
    {
      "cell_type": "code",
      "source": [
        "auroc_dt = round(roc_auc_score(y_te, dt_model.predict_proba(x_te)[:,1]),2)\n",
        "auroc_dt"
      ],
      "metadata": {
        "colab": {
          "base_uri": "https://localhost:8080/"
        },
        "id": "hpjxf-AaWjsx",
        "outputId": "0abf4dba-20be-48bd-940d-2d3e904a2140"
      },
      "execution_count": null,
      "outputs": [
        {
          "output_type": "execute_result",
          "data": {
            "text/plain": [
              "0.87"
            ]
          },
          "metadata": {},
          "execution_count": 128
        }
      ]
    },
    {
      "cell_type": "code",
      "execution_count": null,
      "metadata": {
        "id": "vsL285omUKB2"
      },
      "outputs": [],
      "source": [
        "# Interpretations\n",
        "# 0.87 is the AUROC value of Decision Tree Model which is still less than logistic regression model."
      ]
    },
    {
      "cell_type": "markdown",
      "metadata": {
        "id": "9ATeIZSOWEO1"
      },
      "source": [
        "#### Random Forest"
      ]
    },
    {
      "cell_type": "code",
      "execution_count": null,
      "metadata": {
        "colab": {
          "base_uri": "https://localhost:8080/"
        },
        "id": "v6tcKg2rUZ3w",
        "outputId": "3e3af137-ac36-49cd-9db1-bc2559624daf"
      },
      "outputs": [
        {
          "output_type": "stream",
          "name": "stdout",
          "text": [
            "Depth:  1 cross_val_score:  0.8814574482252577\n",
            "Depth:  5 cross_val_score:  0.8960614028903157\n",
            "Depth:  10 cross_val_score:  0.9041449910390286\n",
            "Depth:  15 cross_val_score:  0.9039384578425255\n",
            "Depth:  20 cross_val_score:  0.9034663943993714\n",
            "Depth:  22 cross_val_score:  0.9024633923216794\n",
            "Depth:  24 cross_val_score:  0.9029647105723795\n",
            "Depth:  26 cross_val_score:  0.9020796503697979\n",
            "Depth:  28 cross_val_score:  0.9025221891752861\n",
            "Depth:  30 cross_val_score:  0.9021387518703146\n",
            "Depth:  32 cross_val_score:  0.9034959103328397\n",
            "Depth:  34 cross_val_score:  0.9034958842202476\n",
            "Depth:  36 cross_val_score:  0.9034073886450263\n"
          ]
        }
      ],
      "source": [
        "from sklearn.ensemble import RandomForestClassifier\n",
        "from sklearn.model_selection import cross_val_score\n",
        "\n",
        "cross_val_rf = []\n",
        "\n",
        "for d in [1,5,10,15,20,22,24,26,28,30,32,34,36]:\n",
        "  rf_model = RandomForestClassifier(max_depth = d, random_state = 1)\n",
        "  rf_model.fit(x_smt_tr,y_smt_tr)\n",
        "  print('Depth: ', d, 'cross_val_score: ', cross_val_score(rf_model, x_tr, y_tr, cv=10).mean())\n",
        "  cross_val_rf.append(cross_val_score(rf_model, x_tr, y_tr, cv=10).mean())\n",
        "\n",
        "# depth = 10 is the best depth."
      ]
    },
    {
      "cell_type": "code",
      "execution_count": null,
      "metadata": {
        "id": "1EteZqdiY1Az"
      },
      "outputs": [],
      "source": [
        "cross_val_rf_max = max(cross_val_rf)"
      ]
    },
    {
      "cell_type": "code",
      "source": [
        "print(\"The best value of max_depth is 10 and cross val score is \", cross_val_rf_max)"
      ],
      "metadata": {
        "colab": {
          "base_uri": "https://localhost:8080/"
        },
        "id": "lUg-8AXLDhKB",
        "outputId": "07fbf772-699b-41c6-cb89-6e38b959f838"
      },
      "execution_count": null,
      "outputs": [
        {
          "output_type": "stream",
          "name": "stdout",
          "text": [
            "The best value of max_depth is 10 and cross val score is  0.9041449910390286\n"
          ]
        }
      ]
    },
    {
      "cell_type": "code",
      "source": [
        "# Building the random forest model mwith best max_depth model\n",
        "from sklearn.ensemble import RandomForestClassifier\n",
        "rf_model = RandomForestClassifier(max_depth = 10, random_state = 0)\n",
        "rf_model.fit(x_smt_tr,y_smt_tr)"
      ],
      "metadata": {
        "id": "FqgAK9htGBeW",
        "colab": {
          "base_uri": "https://localhost:8080/",
          "height": 75
        },
        "outputId": "3e34cc32-9f86-4969-8b4e-7998cfae5729"
      },
      "execution_count": null,
      "outputs": [
        {
          "output_type": "execute_result",
          "data": {
            "text/plain": [
              "RandomForestClassifier(max_depth=10, random_state=0)"
            ],
            "text/html": [
              "<style>#sk-container-id-3 {color: black;background-color: white;}#sk-container-id-3 pre{padding: 0;}#sk-container-id-3 div.sk-toggleable {background-color: white;}#sk-container-id-3 label.sk-toggleable__label {cursor: pointer;display: block;width: 100%;margin-bottom: 0;padding: 0.3em;box-sizing: border-box;text-align: center;}#sk-container-id-3 label.sk-toggleable__label-arrow:before {content: \"▸\";float: left;margin-right: 0.25em;color: #696969;}#sk-container-id-3 label.sk-toggleable__label-arrow:hover:before {color: black;}#sk-container-id-3 div.sk-estimator:hover label.sk-toggleable__label-arrow:before {color: black;}#sk-container-id-3 div.sk-toggleable__content {max-height: 0;max-width: 0;overflow: hidden;text-align: left;background-color: #f0f8ff;}#sk-container-id-3 div.sk-toggleable__content pre {margin: 0.2em;color: black;border-radius: 0.25em;background-color: #f0f8ff;}#sk-container-id-3 input.sk-toggleable__control:checked~div.sk-toggleable__content {max-height: 200px;max-width: 100%;overflow: auto;}#sk-container-id-3 input.sk-toggleable__control:checked~label.sk-toggleable__label-arrow:before {content: \"▾\";}#sk-container-id-3 div.sk-estimator input.sk-toggleable__control:checked~label.sk-toggleable__label {background-color: #d4ebff;}#sk-container-id-3 div.sk-label input.sk-toggleable__control:checked~label.sk-toggleable__label {background-color: #d4ebff;}#sk-container-id-3 input.sk-hidden--visually {border: 0;clip: rect(1px 1px 1px 1px);clip: rect(1px, 1px, 1px, 1px);height: 1px;margin: -1px;overflow: hidden;padding: 0;position: absolute;width: 1px;}#sk-container-id-3 div.sk-estimator {font-family: monospace;background-color: #f0f8ff;border: 1px dotted black;border-radius: 0.25em;box-sizing: border-box;margin-bottom: 0.5em;}#sk-container-id-3 div.sk-estimator:hover {background-color: #d4ebff;}#sk-container-id-3 div.sk-parallel-item::after {content: \"\";width: 100%;border-bottom: 1px solid gray;flex-grow: 1;}#sk-container-id-3 div.sk-label:hover label.sk-toggleable__label {background-color: #d4ebff;}#sk-container-id-3 div.sk-serial::before {content: \"\";position: absolute;border-left: 1px solid gray;box-sizing: border-box;top: 0;bottom: 0;left: 50%;z-index: 0;}#sk-container-id-3 div.sk-serial {display: flex;flex-direction: column;align-items: center;background-color: white;padding-right: 0.2em;padding-left: 0.2em;position: relative;}#sk-container-id-3 div.sk-item {position: relative;z-index: 1;}#sk-container-id-3 div.sk-parallel {display: flex;align-items: stretch;justify-content: center;background-color: white;position: relative;}#sk-container-id-3 div.sk-item::before, #sk-container-id-3 div.sk-parallel-item::before {content: \"\";position: absolute;border-left: 1px solid gray;box-sizing: border-box;top: 0;bottom: 0;left: 50%;z-index: -1;}#sk-container-id-3 div.sk-parallel-item {display: flex;flex-direction: column;z-index: 1;position: relative;background-color: white;}#sk-container-id-3 div.sk-parallel-item:first-child::after {align-self: flex-end;width: 50%;}#sk-container-id-3 div.sk-parallel-item:last-child::after {align-self: flex-start;width: 50%;}#sk-container-id-3 div.sk-parallel-item:only-child::after {width: 0;}#sk-container-id-3 div.sk-dashed-wrapped {border: 1px dashed gray;margin: 0 0.4em 0.5em 0.4em;box-sizing: border-box;padding-bottom: 0.4em;background-color: white;}#sk-container-id-3 div.sk-label label {font-family: monospace;font-weight: bold;display: inline-block;line-height: 1.2em;}#sk-container-id-3 div.sk-label-container {text-align: center;}#sk-container-id-3 div.sk-container {/* jupyter's `normalize.less` sets `[hidden] { display: none; }` but bootstrap.min.css set `[hidden] { display: none !important; }` so we also need the `!important` here to be able to override the default hidden behavior on the sphinx rendered scikit-learn.org. See: https://github.com/scikit-learn/scikit-learn/issues/21755 */display: inline-block !important;position: relative;}#sk-container-id-3 div.sk-text-repr-fallback {display: none;}</style><div id=\"sk-container-id-3\" class=\"sk-top-container\"><div class=\"sk-text-repr-fallback\"><pre>RandomForestClassifier(max_depth=10, random_state=0)</pre><b>In a Jupyter environment, please rerun this cell to show the HTML representation or trust the notebook. <br />On GitHub, the HTML representation is unable to render, please try loading this page with nbviewer.org.</b></div><div class=\"sk-container\" hidden><div class=\"sk-item\"><div class=\"sk-estimator sk-toggleable\"><input class=\"sk-toggleable__control sk-hidden--visually\" id=\"sk-estimator-id-3\" type=\"checkbox\" checked><label for=\"sk-estimator-id-3\" class=\"sk-toggleable__label sk-toggleable__label-arrow\">RandomForestClassifier</label><div class=\"sk-toggleable__content\"><pre>RandomForestClassifier(max_depth=10, random_state=0)</pre></div></div></div></div></div>"
            ]
          },
          "metadata": {},
          "execution_count": 99
        }
      ]
    },
    {
      "cell_type": "code",
      "source": [
        "cross_val_rf_best = cross_val_score(rf_model, x_tr, y_tr, cv=10).mean()"
      ],
      "metadata": {
        "id": "U5vOKOjUGqZY"
      },
      "execution_count": null,
      "outputs": []
    },
    {
      "cell_type": "code",
      "source": [
        "cross_val_rf_best"
      ],
      "metadata": {
        "id": "2-s6tUTRGzZq",
        "colab": {
          "base_uri": "https://localhost:8080/"
        },
        "outputId": "e09c1e49-418f-4632-daa7-095073ad7649"
      },
      "execution_count": null,
      "outputs": [
        {
          "output_type": "execute_result",
          "data": {
            "text/plain": [
              "0.9035844755416405"
            ]
          },
          "metadata": {},
          "execution_count": 101
        }
      ]
    },
    {
      "cell_type": "code",
      "source": [
        "auroc_rf = roc_auc_score(y_te, rf_model.predict_proba(x_te)[:,1])\n",
        "auroc_rf = round(auroc_rf, 2)\n",
        "auroc_rf"
      ],
      "metadata": {
        "colab": {
          "base_uri": "https://localhost:8080/"
        },
        "id": "dscomjZ8Sz4V",
        "outputId": "8b4056c3-a5c2-449b-a851-f4c74b9c51be"
      },
      "execution_count": null,
      "outputs": [
        {
          "output_type": "execute_result",
          "data": {
            "text/plain": [
              "0.9"
            ]
          },
          "metadata": {},
          "execution_count": 117
        }
      ]
    },
    {
      "cell_type": "code",
      "source": [
        "# Interpretations\n",
        "# 0.9 is the auroc score of random forest model. Out of all the model trained so far, random forest gives the best result with\n",
        "# good auroc value."
      ],
      "metadata": {
        "id": "-fyJkQSBHpM4"
      },
      "execution_count": null,
      "outputs": []
    },
    {
      "cell_type": "markdown",
      "source": [
        "#### Gradient Boosting"
      ],
      "metadata": {
        "id": "GSjE4rSAHP6h"
      }
    },
    {
      "cell_type": "code",
      "source": [
        "from sklearn.ensemble import GradientBoostingClassifier\n",
        "\n",
        "cross_val_gb = []\n",
        "for lr in [0.01,0.05,0.08,0.1,0.15,0.2,0.3,0.5,0.7,0.9,1]:\n",
        "  gb_model = GradientBoostingClassifier(learning_rate = lr)\n",
        "  gb_model.fit(x_smt_tr, y_smt_tr)\n",
        "  print('Learning rate: ', lr, 'cross_val_score: ', cross_val_score(gb_model,x_tr,y_tr,cv=10).mean())\n",
        "  cross_val_gb.append(cross_val_score(gb_model,x_tr,y_tr,cv=10).mean())"
      ],
      "metadata": {
        "colab": {
          "base_uri": "https://localhost:8080/"
        },
        "id": "IVyEeDx1HNSB",
        "outputId": "e2313a75-e04e-4a2f-a6e0-fece83e6d783"
      },
      "execution_count": null,
      "outputs": [
        {
          "output_type": "stream",
          "name": "stdout",
          "text": [
            "Learning rate:  0.01 cross_val_score:  0.8856469090089314\n",
            "Learning rate:  0.05 cross_val_score:  0.9032895425160875\n",
            "Learning rate:  0.08 cross_val_score:  0.9043810575773955\n",
            "Learning rate:  0.1 cross_val_score:  0.9047940456326253\n",
            "Learning rate:  0.15 cross_val_score:  0.9069771976140053\n",
            "Learning rate:  0.2 cross_val_score:  0.9067412268218102\n",
            "Learning rate:  0.3 cross_val_score:  0.9067116847757493\n",
            "Learning rate:  0.5 cross_val_score:  0.9051775699795712\n",
            "Learning rate:  0.7 cross_val_score:  0.9044399153603843\n",
            "Learning rate:  0.9 cross_val_score:  0.9022860268907478\n",
            "Learning rate:  1 cross_val_score:  0.901696126022852\n"
          ]
        }
      ]
    },
    {
      "cell_type": "code",
      "source": [
        "cross_val_gb_max = max(cross_val_gb)"
      ],
      "metadata": {
        "id": "T0gaaMwYTCNq"
      },
      "execution_count": null,
      "outputs": []
    },
    {
      "cell_type": "code",
      "source": [
        "print('The best learning rate is 0.15 and cross val score is ', cross_val_gb_max)"
      ],
      "metadata": {
        "id": "PcdtBfkaVgbN",
        "colab": {
          "base_uri": "https://localhost:8080/"
        },
        "outputId": "8602758e-12f7-4655-c276-121ebf379d24"
      },
      "execution_count": null,
      "outputs": [
        {
          "output_type": "stream",
          "name": "stdout",
          "text": [
            "The best learning rate is 0.15 and cross val score is  0.9069771976140053\n"
          ]
        }
      ]
    },
    {
      "cell_type": "code",
      "source": [
        "# Buiding gradient boosting model with best learning rate\n",
        "from sklearn.ensemble import GradientBoostingClassifier\n",
        "gb_model = GradientBoostingClassifier(learning_rate = 0.15)\n",
        "gb_model.fit(x_smt_tr, y_smt_tr)"
      ],
      "metadata": {
        "id": "YCiv4hBeVpPO",
        "colab": {
          "base_uri": "https://localhost:8080/",
          "height": 75
        },
        "outputId": "26488ca6-9bb7-402e-fe44-afccefe7a55c"
      },
      "execution_count": null,
      "outputs": [
        {
          "output_type": "execute_result",
          "data": {
            "text/plain": [
              "GradientBoostingClassifier(learning_rate=0.15)"
            ],
            "text/html": [
              "<style>#sk-container-id-4 {color: black;background-color: white;}#sk-container-id-4 pre{padding: 0;}#sk-container-id-4 div.sk-toggleable {background-color: white;}#sk-container-id-4 label.sk-toggleable__label {cursor: pointer;display: block;width: 100%;margin-bottom: 0;padding: 0.3em;box-sizing: border-box;text-align: center;}#sk-container-id-4 label.sk-toggleable__label-arrow:before {content: \"▸\";float: left;margin-right: 0.25em;color: #696969;}#sk-container-id-4 label.sk-toggleable__label-arrow:hover:before {color: black;}#sk-container-id-4 div.sk-estimator:hover label.sk-toggleable__label-arrow:before {color: black;}#sk-container-id-4 div.sk-toggleable__content {max-height: 0;max-width: 0;overflow: hidden;text-align: left;background-color: #f0f8ff;}#sk-container-id-4 div.sk-toggleable__content pre {margin: 0.2em;color: black;border-radius: 0.25em;background-color: #f0f8ff;}#sk-container-id-4 input.sk-toggleable__control:checked~div.sk-toggleable__content {max-height: 200px;max-width: 100%;overflow: auto;}#sk-container-id-4 input.sk-toggleable__control:checked~label.sk-toggleable__label-arrow:before {content: \"▾\";}#sk-container-id-4 div.sk-estimator input.sk-toggleable__control:checked~label.sk-toggleable__label {background-color: #d4ebff;}#sk-container-id-4 div.sk-label input.sk-toggleable__control:checked~label.sk-toggleable__label {background-color: #d4ebff;}#sk-container-id-4 input.sk-hidden--visually {border: 0;clip: rect(1px 1px 1px 1px);clip: rect(1px, 1px, 1px, 1px);height: 1px;margin: -1px;overflow: hidden;padding: 0;position: absolute;width: 1px;}#sk-container-id-4 div.sk-estimator {font-family: monospace;background-color: #f0f8ff;border: 1px dotted black;border-radius: 0.25em;box-sizing: border-box;margin-bottom: 0.5em;}#sk-container-id-4 div.sk-estimator:hover {background-color: #d4ebff;}#sk-container-id-4 div.sk-parallel-item::after {content: \"\";width: 100%;border-bottom: 1px solid gray;flex-grow: 1;}#sk-container-id-4 div.sk-label:hover label.sk-toggleable__label {background-color: #d4ebff;}#sk-container-id-4 div.sk-serial::before {content: \"\";position: absolute;border-left: 1px solid gray;box-sizing: border-box;top: 0;bottom: 0;left: 50%;z-index: 0;}#sk-container-id-4 div.sk-serial {display: flex;flex-direction: column;align-items: center;background-color: white;padding-right: 0.2em;padding-left: 0.2em;position: relative;}#sk-container-id-4 div.sk-item {position: relative;z-index: 1;}#sk-container-id-4 div.sk-parallel {display: flex;align-items: stretch;justify-content: center;background-color: white;position: relative;}#sk-container-id-4 div.sk-item::before, #sk-container-id-4 div.sk-parallel-item::before {content: \"\";position: absolute;border-left: 1px solid gray;box-sizing: border-box;top: 0;bottom: 0;left: 50%;z-index: -1;}#sk-container-id-4 div.sk-parallel-item {display: flex;flex-direction: column;z-index: 1;position: relative;background-color: white;}#sk-container-id-4 div.sk-parallel-item:first-child::after {align-self: flex-end;width: 50%;}#sk-container-id-4 div.sk-parallel-item:last-child::after {align-self: flex-start;width: 50%;}#sk-container-id-4 div.sk-parallel-item:only-child::after {width: 0;}#sk-container-id-4 div.sk-dashed-wrapped {border: 1px dashed gray;margin: 0 0.4em 0.5em 0.4em;box-sizing: border-box;padding-bottom: 0.4em;background-color: white;}#sk-container-id-4 div.sk-label label {font-family: monospace;font-weight: bold;display: inline-block;line-height: 1.2em;}#sk-container-id-4 div.sk-label-container {text-align: center;}#sk-container-id-4 div.sk-container {/* jupyter's `normalize.less` sets `[hidden] { display: none; }` but bootstrap.min.css set `[hidden] { display: none !important; }` so we also need the `!important` here to be able to override the default hidden behavior on the sphinx rendered scikit-learn.org. See: https://github.com/scikit-learn/scikit-learn/issues/21755 */display: inline-block !important;position: relative;}#sk-container-id-4 div.sk-text-repr-fallback {display: none;}</style><div id=\"sk-container-id-4\" class=\"sk-top-container\"><div class=\"sk-text-repr-fallback\"><pre>GradientBoostingClassifier(learning_rate=0.15)</pre><b>In a Jupyter environment, please rerun this cell to show the HTML representation or trust the notebook. <br />On GitHub, the HTML representation is unable to render, please try loading this page with nbviewer.org.</b></div><div class=\"sk-container\" hidden><div class=\"sk-item\"><div class=\"sk-estimator sk-toggleable\"><input class=\"sk-toggleable__control sk-hidden--visually\" id=\"sk-estimator-id-4\" type=\"checkbox\" checked><label for=\"sk-estimator-id-4\" class=\"sk-toggleable__label sk-toggleable__label-arrow\">GradientBoostingClassifier</label><div class=\"sk-toggleable__content\"><pre>GradientBoostingClassifier(learning_rate=0.15)</pre></div></div></div></div></div>"
            ]
          },
          "metadata": {},
          "execution_count": 105
        }
      ]
    },
    {
      "cell_type": "code",
      "source": [
        "cross_val_gb_best = cross_val_score(gb_model,x_tr,y_tr,cv=10).mean()\n",
        "cross_val_gb_best"
      ],
      "metadata": {
        "id": "xGwgYSEWWoeV",
        "colab": {
          "base_uri": "https://localhost:8080/"
        },
        "outputId": "b7d2efd7-fa0a-4bf8-d04e-3d2516817775"
      },
      "execution_count": null,
      "outputs": [
        {
          "output_type": "execute_result",
          "data": {
            "text/plain": [
              "0.9069771976140053"
            ]
          },
          "metadata": {},
          "execution_count": 106
        }
      ]
    },
    {
      "cell_type": "code",
      "source": [
        "auroc_gb = roc_auc_score(y_te, gb_model.predict_proba(x_te)[:,1])\n",
        "auroc_gb = round(auroc_gb,2)\n",
        "auroc_gb"
      ],
      "metadata": {
        "colab": {
          "base_uri": "https://localhost:8080/"
        },
        "id": "W4Y4e1z0U431",
        "outputId": "73847e87-5366-417f-b13d-4ad6e217d114"
      },
      "execution_count": null,
      "outputs": [
        {
          "output_type": "execute_result",
          "data": {
            "text/plain": [
              "0.9"
            ]
          },
          "metadata": {},
          "execution_count": 116
        }
      ]
    },
    {
      "cell_type": "code",
      "source": [
        "# Interpretations\n",
        "# 0.9 is the auroc score of gradient boosting model. Out of all the models trained so far, random forest and gradient boosting\n",
        "# gives the best result with good auroc value of 0.9"
      ],
      "metadata": {
        "id": "ArpqWA9ZWxt0"
      },
      "execution_count": null,
      "outputs": []
    },
    {
      "cell_type": "markdown",
      "source": [
        "#### XGBoost"
      ],
      "metadata": {
        "id": "FjFOsk49XM7n"
      }
    },
    {
      "cell_type": "code",
      "source": [
        "import xgboost as xgb\n",
        "\n",
        "cross_val_xgb = []\n",
        "for lr in [0.01,0.05,0.08,0.1,0.15,0.2,0.3,0.5,0.7,0.9,1]:\n",
        "  xgb_model = xgb.XGBClassifier(colsample_bytree = 0.4, learning_rate = lr, n_estimators = 100)\n",
        "  xgb_model.fit(x_smt_tr,y_smt_tr)\n",
        "  print('Learning rate: ', lr, 'cross val score: ', cross_val_score(xgb_model, x_tr, y_tr, cv=10).mean())\n",
        "  cross_val_xgb.append(cross_val_score(xgb_model, x_tr, y_tr, cv=10).mean())\n",
        "\n",
        "# learning rate of 0.2 is the best learning rate"
      ],
      "metadata": {
        "id": "k44dAqyfXLWy",
        "colab": {
          "base_uri": "https://localhost:8080/"
        },
        "outputId": "3a106af0-c05d-4177-922d-100eecf27520"
      },
      "execution_count": null,
      "outputs": [
        {
          "output_type": "stream",
          "name": "stdout",
          "text": [
            "Learning rate:  0.01 cross val score:  0.8899837666718022\n",
            "Learning rate:  0.05 cross val score:  0.9034959538538269\n",
            "Learning rate:  0.08 cross val score:  0.9055907321187495\n",
            "Learning rate:  0.1 cross val score:  0.9057676536356128\n",
            "Learning rate:  0.15 cross val score:  0.9057677145649945\n",
            "Learning rate:  0.2 cross val score:  0.9073018380653701\n",
            "Learning rate:  0.3 cross val score:  0.9044991996490467\n",
            "Learning rate:  0.5 cross val score:  0.9027878412807008\n",
            "Learning rate:  0.7 cross val score:  0.9011063034927332\n",
            "Learning rate:  0.9 cross val score:  0.8972119324101661\n",
            "Learning rate:  1 cross val score:  0.8946451429272738\n"
          ]
        }
      ]
    },
    {
      "cell_type": "code",
      "source": [
        "cross_val_xgb_max = max(cross_val_xgb)"
      ],
      "metadata": {
        "id": "GlevYswSYpbo"
      },
      "execution_count": null,
      "outputs": []
    },
    {
      "cell_type": "code",
      "source": [
        "print('the best learning rate is 0.2 and cross val score is ', cross_val_xgb_max)"
      ],
      "metadata": {
        "id": "mhlMwQdEfut5",
        "colab": {
          "base_uri": "https://localhost:8080/"
        },
        "outputId": "d77a5177-cae8-4c9c-c166-d6958a52bb73"
      },
      "execution_count": null,
      "outputs": [
        {
          "output_type": "stream",
          "name": "stdout",
          "text": [
            "the best learning rate is 0.2 and cross val score is  0.9073018380653701\n"
          ]
        }
      ]
    },
    {
      "cell_type": "code",
      "source": [
        "# building the xgboost model with best learning rate value\n",
        "import xgboost as xgb\n",
        "xgb_model = xgb.XGBClassifier(colsample_bytree = 0.4, learning_rate = 0.2, n_estimators = 100)\n",
        "xgb_model.fit(x_smt_tr,y_smt_tr)"
      ],
      "metadata": {
        "id": "JvtlejbCgLBC",
        "colab": {
          "base_uri": "https://localhost:8080/",
          "height": 248
        },
        "outputId": "2aeeef07-4ae1-498d-b98f-64bdf6bb0351"
      },
      "execution_count": null,
      "outputs": [
        {
          "output_type": "execute_result",
          "data": {
            "text/plain": [
              "XGBClassifier(base_score=None, booster=None, callbacks=None,\n",
              "              colsample_bylevel=None, colsample_bynode=None,\n",
              "              colsample_bytree=0.4, early_stopping_rounds=None,\n",
              "              enable_categorical=False, eval_metric=None, feature_types=None,\n",
              "              gamma=None, gpu_id=None, grow_policy=None, importance_type=None,\n",
              "              interaction_constraints=None, learning_rate=0.2, max_bin=None,\n",
              "              max_cat_threshold=None, max_cat_to_onehot=None,\n",
              "              max_delta_step=None, max_depth=None, max_leaves=None,\n",
              "              min_child_weight=None, missing=nan, monotone_constraints=None,\n",
              "              n_estimators=100, n_jobs=None, num_parallel_tree=None,\n",
              "              predictor=None, random_state=None, ...)"
            ],
            "text/html": [
              "<style>#sk-container-id-1 {color: black;background-color: white;}#sk-container-id-1 pre{padding: 0;}#sk-container-id-1 div.sk-toggleable {background-color: white;}#sk-container-id-1 label.sk-toggleable__label {cursor: pointer;display: block;width: 100%;margin-bottom: 0;padding: 0.3em;box-sizing: border-box;text-align: center;}#sk-container-id-1 label.sk-toggleable__label-arrow:before {content: \"▸\";float: left;margin-right: 0.25em;color: #696969;}#sk-container-id-1 label.sk-toggleable__label-arrow:hover:before {color: black;}#sk-container-id-1 div.sk-estimator:hover label.sk-toggleable__label-arrow:before {color: black;}#sk-container-id-1 div.sk-toggleable__content {max-height: 0;max-width: 0;overflow: hidden;text-align: left;background-color: #f0f8ff;}#sk-container-id-1 div.sk-toggleable__content pre {margin: 0.2em;color: black;border-radius: 0.25em;background-color: #f0f8ff;}#sk-container-id-1 input.sk-toggleable__control:checked~div.sk-toggleable__content {max-height: 200px;max-width: 100%;overflow: auto;}#sk-container-id-1 input.sk-toggleable__control:checked~label.sk-toggleable__label-arrow:before {content: \"▾\";}#sk-container-id-1 div.sk-estimator input.sk-toggleable__control:checked~label.sk-toggleable__label {background-color: #d4ebff;}#sk-container-id-1 div.sk-label input.sk-toggleable__control:checked~label.sk-toggleable__label {background-color: #d4ebff;}#sk-container-id-1 input.sk-hidden--visually {border: 0;clip: rect(1px 1px 1px 1px);clip: rect(1px, 1px, 1px, 1px);height: 1px;margin: -1px;overflow: hidden;padding: 0;position: absolute;width: 1px;}#sk-container-id-1 div.sk-estimator {font-family: monospace;background-color: #f0f8ff;border: 1px dotted black;border-radius: 0.25em;box-sizing: border-box;margin-bottom: 0.5em;}#sk-container-id-1 div.sk-estimator:hover {background-color: #d4ebff;}#sk-container-id-1 div.sk-parallel-item::after {content: \"\";width: 100%;border-bottom: 1px solid gray;flex-grow: 1;}#sk-container-id-1 div.sk-label:hover label.sk-toggleable__label {background-color: #d4ebff;}#sk-container-id-1 div.sk-serial::before {content: \"\";position: absolute;border-left: 1px solid gray;box-sizing: border-box;top: 0;bottom: 0;left: 50%;z-index: 0;}#sk-container-id-1 div.sk-serial {display: flex;flex-direction: column;align-items: center;background-color: white;padding-right: 0.2em;padding-left: 0.2em;position: relative;}#sk-container-id-1 div.sk-item {position: relative;z-index: 1;}#sk-container-id-1 div.sk-parallel {display: flex;align-items: stretch;justify-content: center;background-color: white;position: relative;}#sk-container-id-1 div.sk-item::before, #sk-container-id-1 div.sk-parallel-item::before {content: \"\";position: absolute;border-left: 1px solid gray;box-sizing: border-box;top: 0;bottom: 0;left: 50%;z-index: -1;}#sk-container-id-1 div.sk-parallel-item {display: flex;flex-direction: column;z-index: 1;position: relative;background-color: white;}#sk-container-id-1 div.sk-parallel-item:first-child::after {align-self: flex-end;width: 50%;}#sk-container-id-1 div.sk-parallel-item:last-child::after {align-self: flex-start;width: 50%;}#sk-container-id-1 div.sk-parallel-item:only-child::after {width: 0;}#sk-container-id-1 div.sk-dashed-wrapped {border: 1px dashed gray;margin: 0 0.4em 0.5em 0.4em;box-sizing: border-box;padding-bottom: 0.4em;background-color: white;}#sk-container-id-1 div.sk-label label {font-family: monospace;font-weight: bold;display: inline-block;line-height: 1.2em;}#sk-container-id-1 div.sk-label-container {text-align: center;}#sk-container-id-1 div.sk-container {/* jupyter's `normalize.less` sets `[hidden] { display: none; }` but bootstrap.min.css set `[hidden] { display: none !important; }` so we also need the `!important` here to be able to override the default hidden behavior on the sphinx rendered scikit-learn.org. See: https://github.com/scikit-learn/scikit-learn/issues/21755 */display: inline-block !important;position: relative;}#sk-container-id-1 div.sk-text-repr-fallback {display: none;}</style><div id=\"sk-container-id-1\" class=\"sk-top-container\"><div class=\"sk-text-repr-fallback\"><pre>XGBClassifier(base_score=None, booster=None, callbacks=None,\n",
              "              colsample_bylevel=None, colsample_bynode=None,\n",
              "              colsample_bytree=0.4, early_stopping_rounds=None,\n",
              "              enable_categorical=False, eval_metric=None, feature_types=None,\n",
              "              gamma=None, gpu_id=None, grow_policy=None, importance_type=None,\n",
              "              interaction_constraints=None, learning_rate=0.2, max_bin=None,\n",
              "              max_cat_threshold=None, max_cat_to_onehot=None,\n",
              "              max_delta_step=None, max_depth=None, max_leaves=None,\n",
              "              min_child_weight=None, missing=nan, monotone_constraints=None,\n",
              "              n_estimators=100, n_jobs=None, num_parallel_tree=None,\n",
              "              predictor=None, random_state=None, ...)</pre><b>In a Jupyter environment, please rerun this cell to show the HTML representation or trust the notebook. <br />On GitHub, the HTML representation is unable to render, please try loading this page with nbviewer.org.</b></div><div class=\"sk-container\" hidden><div class=\"sk-item\"><div class=\"sk-estimator sk-toggleable\"><input class=\"sk-toggleable__control sk-hidden--visually\" id=\"sk-estimator-id-1\" type=\"checkbox\" checked><label for=\"sk-estimator-id-1\" class=\"sk-toggleable__label sk-toggleable__label-arrow\">XGBClassifier</label><div class=\"sk-toggleable__content\"><pre>XGBClassifier(base_score=None, booster=None, callbacks=None,\n",
              "              colsample_bylevel=None, colsample_bynode=None,\n",
              "              colsample_bytree=0.4, early_stopping_rounds=None,\n",
              "              enable_categorical=False, eval_metric=None, feature_types=None,\n",
              "              gamma=None, gpu_id=None, grow_policy=None, importance_type=None,\n",
              "              interaction_constraints=None, learning_rate=0.2, max_bin=None,\n",
              "              max_cat_threshold=None, max_cat_to_onehot=None,\n",
              "              max_delta_step=None, max_depth=None, max_leaves=None,\n",
              "              min_child_weight=None, missing=nan, monotone_constraints=None,\n",
              "              n_estimators=100, n_jobs=None, num_parallel_tree=None,\n",
              "              predictor=None, random_state=None, ...)</pre></div></div></div></div></div>"
            ]
          },
          "metadata": {},
          "execution_count": 83
        }
      ]
    },
    {
      "cell_type": "code",
      "source": [
        "cross_val_xgb_best = cross_val_score(xgb_model, x_tr, y_tr, cv=10).mean()\n",
        "cross_val_xgb_best"
      ],
      "metadata": {
        "id": "dv7sAjPOgbGP",
        "colab": {
          "base_uri": "https://localhost:8080/"
        },
        "outputId": "5e8c396e-3a96-4355-f7ba-ad26fec91dfd"
      },
      "execution_count": null,
      "outputs": [
        {
          "output_type": "execute_result",
          "data": {
            "text/plain": [
              "0.9073018380653701"
            ]
          },
          "metadata": {},
          "execution_count": 110
        }
      ]
    },
    {
      "cell_type": "code",
      "source": [
        "auroc_xgb = roc_auc_score(y_te, xgb_model.predict_proba(x_te)[:,1])\n",
        "auroc_xgb = round(auroc_xgb, 2)\n",
        "auroc_xgb"
      ],
      "metadata": {
        "colab": {
          "base_uri": "https://localhost:8080/"
        },
        "id": "ZMwT-lEAUatu",
        "outputId": "5dabe857-2281-4448-c0ef-a68ca8e9c79f"
      },
      "execution_count": null,
      "outputs": [
        {
          "output_type": "execute_result",
          "data": {
            "text/plain": [
              "0.91"
            ]
          },
          "metadata": {},
          "execution_count": 115
        }
      ]
    },
    {
      "cell_type": "markdown",
      "source": [
        "## Interpretations\n",
        "The data is trained with 6 ML models respectively\n",
        "\n",
        "The 6 models are Logistic Regression, KNN, Decision Tree, Random Forest, Gradient Boosting, XGBoost\n",
        "\n",
        "Out of the 6 Models, with the highest cross validation score of 0.91, XGBoost is the best fit model"
      ],
      "metadata": {
        "id": "5_gDm_BEiA9t"
      }
    },
    {
      "cell_type": "markdown",
      "source": [
        "## Cross Validation Score for ML Models"
      ],
      "metadata": {
        "id": "Ebc86HGhiMxQ"
      }
    },
    {
      "cell_type": "code",
      "source": [
        "print('Cross Validation Score for Logistic Regression Model: ', cross_val_log)\n",
        "print('Cross Validation Score for K-Nearest Neighbors Classification Model: ', cross_val_score_knn_best)\n",
        "print('Cross Validation Score for Decision Tree Classification Model: ', cross_val_dt_best)\n",
        "print('Cross Validation Score for Random Forest Classification Model: ', cross_val_rf_best)\n",
        "print('Cross Validation Score for Gradient Boosting Classification Model: ', cross_val_gb_best)\n",
        "print('Cross Validation Score for Extreme-Gradient Boosting Classification Model: ', cross_val_xgb_best)"
      ],
      "metadata": {
        "id": "h29q6zq9h1qt",
        "colab": {
          "base_uri": "https://localhost:8080/"
        },
        "outputId": "6e2495ed-2888-48a7-d999-4051f67d6245"
      },
      "execution_count": null,
      "outputs": [
        {
          "output_type": "stream",
          "name": "stdout",
          "text": [
            "Cross Validation Score for Logistic Regression Model:  0.8924028372201928\n",
            "Cross Validation Score for K-Nearest Neighbors Classification Model:  0.8863546473015683\n",
            "Cross Validation Score for Decision Tree Classification Model:  0.9008406687957133\n",
            "Cross Validation Score for Random Forest Classification Model:  0.9035844755416405\n",
            "Cross Validation Score for Gradient Boosting Classification Model:  0.9069771976140053\n",
            "Cross Validation Score for Extreme-Gradient Boosting Classification Model:  0.9073018380653701\n"
          ]
        }
      ]
    },
    {
      "cell_type": "markdown",
      "source": [
        "## AUROC Score for ML Models"
      ],
      "metadata": {
        "id": "OH01k0JB4hUA"
      }
    },
    {
      "cell_type": "code",
      "source": [
        "print('AUROC Score for Logistic Regression Model: ', auroc_log)\n",
        "print('AUROC Score for K-Nearest Neighbors Classification Model: ', auroc_knn)\n",
        "print('AUROC Score for Decision Tree Classification Model: ', auroc_dt)\n",
        "print('AUROC Score for Random Forest Classification Model: ', auroc_rf)\n",
        "print('AUROC Score for Gradient Boosting Classification Model: ', auroc_gb)\n",
        "print('AUROC Score for Extreme-Gradient Boosting Classification Model: ', auroc_xgb)"
      ],
      "metadata": {
        "colab": {
          "base_uri": "https://localhost:8080/"
        },
        "id": "SCWfYpnl4UG6",
        "outputId": "52bf53df-9863-4314-c65c-eb9acfb840fa"
      },
      "execution_count": null,
      "outputs": [
        {
          "output_type": "stream",
          "name": "stdout",
          "text": [
            "AUROC Score for Logistic Regression Model:  0.88\n",
            "AUROC Score for K-Nearest Neighbors Classification Model:  0.84\n",
            "AUROC Score for Decision Tree Classification Model:  0.87\n",
            "AUROC Score for Random Forest Classification Model:  0.9\n",
            "AUROC Score for Gradient Boosting Classification Model:  0.9\n",
            "AUROC Score for Extreme-Gradient Boosting Classification Model:  0.91\n"
          ]
        }
      ]
    },
    {
      "cell_type": "markdown",
      "source": [
        "## Feature Importance: XGBoost Model"
      ],
      "metadata": {
        "id": "kSluSoUa5wHi"
      }
    },
    {
      "cell_type": "code",
      "source": [
        "ft_imp_xgb = list(zip(xgb_model.feature_importances_,df.columns[:-1]))\n",
        "imp = pd.DataFrame(ft_imp_xgb, columns = ['Importance', 'Feature'])\n",
        "imp.sort_values('Importance', ascending = False, inplace = True)\n",
        "imp"
      ],
      "metadata": {
        "colab": {
          "base_uri": "https://localhost:8080/",
          "height": 363
        },
        "id": "myOw556S5F0G",
        "outputId": "cf672f4f-a39f-4a9a-ed3a-fd0ad0cf9c71"
      },
      "execution_count": null,
      "outputs": [
        {
          "output_type": "execute_result",
          "data": {
            "text/plain": [
              "   Importance         Feature\n",
              "7    0.299045             dur\n",
              "4    0.212240       call_type\n",
              "6    0.150209             mon\n",
              "8    0.092908       num_calls\n",
              "9    0.072255    prev_outcome\n",
              "5    0.046567             day\n",
              "1    0.038353             job\n",
              "0    0.036010             age\n",
              "3    0.027120  education_qual\n",
              "2    0.025294         marital"
            ],
            "text/html": [
              "\n",
              "  <div id=\"df-25782140-1c5e-4ba7-b87c-315bafefdbff\">\n",
              "    <div class=\"colab-df-container\">\n",
              "      <div>\n",
              "<style scoped>\n",
              "    .dataframe tbody tr th:only-of-type {\n",
              "        vertical-align: middle;\n",
              "    }\n",
              "\n",
              "    .dataframe tbody tr th {\n",
              "        vertical-align: top;\n",
              "    }\n",
              "\n",
              "    .dataframe thead th {\n",
              "        text-align: right;\n",
              "    }\n",
              "</style>\n",
              "<table border=\"1\" class=\"dataframe\">\n",
              "  <thead>\n",
              "    <tr style=\"text-align: right;\">\n",
              "      <th></th>\n",
              "      <th>Importance</th>\n",
              "      <th>Feature</th>\n",
              "    </tr>\n",
              "  </thead>\n",
              "  <tbody>\n",
              "    <tr>\n",
              "      <th>7</th>\n",
              "      <td>0.299045</td>\n",
              "      <td>dur</td>\n",
              "    </tr>\n",
              "    <tr>\n",
              "      <th>4</th>\n",
              "      <td>0.212240</td>\n",
              "      <td>call_type</td>\n",
              "    </tr>\n",
              "    <tr>\n",
              "      <th>6</th>\n",
              "      <td>0.150209</td>\n",
              "      <td>mon</td>\n",
              "    </tr>\n",
              "    <tr>\n",
              "      <th>8</th>\n",
              "      <td>0.092908</td>\n",
              "      <td>num_calls</td>\n",
              "    </tr>\n",
              "    <tr>\n",
              "      <th>9</th>\n",
              "      <td>0.072255</td>\n",
              "      <td>prev_outcome</td>\n",
              "    </tr>\n",
              "    <tr>\n",
              "      <th>5</th>\n",
              "      <td>0.046567</td>\n",
              "      <td>day</td>\n",
              "    </tr>\n",
              "    <tr>\n",
              "      <th>1</th>\n",
              "      <td>0.038353</td>\n",
              "      <td>job</td>\n",
              "    </tr>\n",
              "    <tr>\n",
              "      <th>0</th>\n",
              "      <td>0.036010</td>\n",
              "      <td>age</td>\n",
              "    </tr>\n",
              "    <tr>\n",
              "      <th>3</th>\n",
              "      <td>0.027120</td>\n",
              "      <td>education_qual</td>\n",
              "    </tr>\n",
              "    <tr>\n",
              "      <th>2</th>\n",
              "      <td>0.025294</td>\n",
              "      <td>marital</td>\n",
              "    </tr>\n",
              "  </tbody>\n",
              "</table>\n",
              "</div>\n",
              "      <button class=\"colab-df-convert\" onclick=\"convertToInteractive('df-25782140-1c5e-4ba7-b87c-315bafefdbff')\"\n",
              "              title=\"Convert this dataframe to an interactive table.\"\n",
              "              style=\"display:none;\">\n",
              "        \n",
              "  <svg xmlns=\"http://www.w3.org/2000/svg\" height=\"24px\"viewBox=\"0 0 24 24\"\n",
              "       width=\"24px\">\n",
              "    <path d=\"M0 0h24v24H0V0z\" fill=\"none\"/>\n",
              "    <path d=\"M18.56 5.44l.94 2.06.94-2.06 2.06-.94-2.06-.94-.94-2.06-.94 2.06-2.06.94zm-11 1L8.5 8.5l.94-2.06 2.06-.94-2.06-.94L8.5 2.5l-.94 2.06-2.06.94zm10 10l.94 2.06.94-2.06 2.06-.94-2.06-.94-.94-2.06-.94 2.06-2.06.94z\"/><path d=\"M17.41 7.96l-1.37-1.37c-.4-.4-.92-.59-1.43-.59-.52 0-1.04.2-1.43.59L10.3 9.45l-7.72 7.72c-.78.78-.78 2.05 0 2.83L4 21.41c.39.39.9.59 1.41.59.51 0 1.02-.2 1.41-.59l7.78-7.78 2.81-2.81c.8-.78.8-2.07 0-2.86zM5.41 20L4 18.59l7.72-7.72 1.47 1.35L5.41 20z\"/>\n",
              "  </svg>\n",
              "      </button>\n",
              "      \n",
              "  <style>\n",
              "    .colab-df-container {\n",
              "      display:flex;\n",
              "      flex-wrap:wrap;\n",
              "      gap: 12px;\n",
              "    }\n",
              "\n",
              "    .colab-df-convert {\n",
              "      background-color: #E8F0FE;\n",
              "      border: none;\n",
              "      border-radius: 50%;\n",
              "      cursor: pointer;\n",
              "      display: none;\n",
              "      fill: #1967D2;\n",
              "      height: 32px;\n",
              "      padding: 0 0 0 0;\n",
              "      width: 32px;\n",
              "    }\n",
              "\n",
              "    .colab-df-convert:hover {\n",
              "      background-color: #E2EBFA;\n",
              "      box-shadow: 0px 1px 2px rgba(60, 64, 67, 0.3), 0px 1px 3px 1px rgba(60, 64, 67, 0.15);\n",
              "      fill: #174EA6;\n",
              "    }\n",
              "\n",
              "    [theme=dark] .colab-df-convert {\n",
              "      background-color: #3B4455;\n",
              "      fill: #D2E3FC;\n",
              "    }\n",
              "\n",
              "    [theme=dark] .colab-df-convert:hover {\n",
              "      background-color: #434B5C;\n",
              "      box-shadow: 0px 1px 3px 1px rgba(0, 0, 0, 0.15);\n",
              "      filter: drop-shadow(0px 1px 2px rgba(0, 0, 0, 0.3));\n",
              "      fill: #FFFFFF;\n",
              "    }\n",
              "  </style>\n",
              "\n",
              "      <script>\n",
              "        const buttonEl =\n",
              "          document.querySelector('#df-25782140-1c5e-4ba7-b87c-315bafefdbff button.colab-df-convert');\n",
              "        buttonEl.style.display =\n",
              "          google.colab.kernel.accessAllowed ? 'block' : 'none';\n",
              "\n",
              "        async function convertToInteractive(key) {\n",
              "          const element = document.querySelector('#df-25782140-1c5e-4ba7-b87c-315bafefdbff');\n",
              "          const dataTable =\n",
              "            await google.colab.kernel.invokeFunction('convertToInteractive',\n",
              "                                                     [key], {});\n",
              "          if (!dataTable) return;\n",
              "\n",
              "          const docLinkHtml = 'Like what you see? Visit the ' +\n",
              "            '<a target=\"_blank\" href=https://colab.research.google.com/notebooks/data_table.ipynb>data table notebook</a>'\n",
              "            + ' to learn more about interactive tables.';\n",
              "          element.innerHTML = '';\n",
              "          dataTable['output_type'] = 'display_data';\n",
              "          await google.colab.output.renderOutput(dataTable, element);\n",
              "          const docLink = document.createElement('div');\n",
              "          docLink.innerHTML = docLinkHtml;\n",
              "          element.appendChild(docLink);\n",
              "        }\n",
              "      </script>\n",
              "    </div>\n",
              "  </div>\n",
              "  "
            ]
          },
          "metadata": {},
          "execution_count": 134
        }
      ]
    },
    {
      "cell_type": "code",
      "source": [
        "sorted_idx = xgb_model.feature_importances_.argsort()\n",
        "plt.figure(figsize=(10,5))\n",
        "plt.barh(df.columns[sorted_idx], xgb_model.feature_importances_[sorted_idx])\n",
        "plt.xlabel(\"XGBoost Feature Importance\")\n",
        "plt.title(\"Feature Importance\")\n",
        "plt.show()"
      ],
      "metadata": {
        "colab": {
          "base_uri": "https://localhost:8080/",
          "height": 487
        },
        "id": "IR87m6rnBcbo",
        "outputId": "c6e24772-1890-417c-ccfc-152512990f6c"
      },
      "execution_count": null,
      "outputs": [
        {
          "output_type": "display_data",
          "data": {
            "text/plain": [
              "<Figure size 1000x500 with 1 Axes>"
            ],
            "image/png": "[encoded data removed]"
          },
          "metadata": {}
        }
      ]
    },
    {
      "cell_type": "markdown",
      "source": [
        "### Top 3 Important Features\n",
        "1. Duration of the call in seconds\n",
        "\n",
        "2. call_type\n",
        "\n",
        "3. month"
      ],
      "metadata": {
        "id": "uHGOXOMoO9w0"
      }
    }
  ],
  "metadata": {
    "colab": {
      "provenance": []
    },
    "kernelspec": {
      "display_name": "Python 3",
      "name": "python3"
    },
    "language_info": {
      "name": "python"
    }
  },
  "nbformat": 4,
  "nbformat_minor": 0
}